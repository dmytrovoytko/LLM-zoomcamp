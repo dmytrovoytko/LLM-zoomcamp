{
 "cells": [
  {
   "cell_type": "markdown",
   "metadata": {},
   "source": [
    "#### Architecture - Semantic Search using Elastic Search"
   ]
  },
  {
   "attachments": {
    "image.png": {
     "image/png": "[encoded data removed]"
    }
   },
   "cell_type": "markdown",
   "metadata": {},
   "source": [
    "\n",
    "![image.png](attachment:image.png)"
   ]
  },
  {
   "cell_type": "markdown",
   "metadata": {},
   "source": [
    "* Two very important concepts in Elasticsearch are documents and indexes.\n",
    "\n",
    "* A document is collection of fields with their associated values. \n",
    "\n",
    "* To work with Elasticsearch you have to organize your data into documents, and then add all your documents to an index. \n",
    "\n",
    "* Index as a collection of documents that is stored in a highly optimized format designed to perform efficient searches."
   ]
  },
  {
   "cell_type": "markdown",
   "metadata": {},
   "source": [
    "#### Step 1: Prepare documents"
   ]
  },
  {
   "cell_type": "code",
   "execution_count": 6,
   "metadata": {},
   "outputs": [
    {
     "data": {
      "text/plain": [
       "948"
      ]
     },
     "execution_count": 6,
     "metadata": {},
     "output_type": "execute_result"
    }
   ],
   "source": [
    "import requests \n",
    "\n",
    "base_url = 'https://github.com/DataTalksClub/llm-zoomcamp/blob/main'\n",
    "relative_url = '03-vector-search/eval/documents-with-ids.json'\n",
    "docs_url = f'{base_url}/{relative_url}?raw=1'\n",
    "docs_response = requests.get(docs_url)\n",
    "documents = docs_response.json()\n",
    "len(documents)"
   ]
  },
  {
   "cell_type": "code",
   "execution_count": 7,
   "metadata": {},
   "outputs": [
    {
     "data": {
      "text/plain": [
       "{'text': 'GitHub - DataTalksClub data-engineering-zoomcamp#prerequisites',\n",
       " 'section': 'General course-related questions',\n",
       " 'question': 'Course - What are the prerequisites for this course?',\n",
       " 'course': 'data-engineering-zoomcamp',\n",
       " 'id': '1f6520ca'}"
      ]
     },
     "execution_count": 7,
     "metadata": {},
     "output_type": "execute_result"
    }
   ],
   "source": [
    "documents[1]"
   ]
  },
  {
   "cell_type": "markdown",
   "metadata": {},
   "source": [
    "#### Step 2: Create Embeddings using Pretrained Models"
   ]
  },
  {
   "cell_type": "markdown",
   "metadata": {},
   "source": [
    "Sentence Transformers documentation here: https://www.sbert.net/docs/sentence_transformer/pretrained_models.html"
   ]
  },
  {
   "cell_type": "code",
   "execution_count": 1,
   "metadata": {},
   "outputs": [
    {
     "name": "stderr",
     "output_type": "stream",
     "text": [
      "/home/codespace/.python/current/lib/python3.10/site-packages/sentence_transformers/cross_encoder/CrossEncoder.py:11: TqdmExperimentalWarning: Using `tqdm.autonotebook.tqdm` in notebook mode. Use `tqdm.tqdm` instead to force console mode (e.g. in jupyter console)\n",
      "  from tqdm.autonotebook import tqdm, trange\n"
     ]
    },
    {
     "data": {
      "application/vnd.jupyter.widget-view+json": {
       "model_id": "cdef438fa95849b89b0e5177842550ca",
       "version_major": 2,
       "version_minor": 0
      },
      "text/plain": [
       "modules.json:   0%|          | 0.00/349 [00:00<?, ?B/s]"
      ]
     },
     "metadata": {},
     "output_type": "display_data"
    },
    {
     "data": {
      "application/vnd.jupyter.widget-view+json": {
       "model_id": "d33d9ba3f3734a6caa1f010a8b9e9aa8",
       "version_major": 2,
       "version_minor": 0
      },
      "text/plain": [
       "config_sentence_transformers.json:   0%|          | 0.00/116 [00:00<?, ?B/s]"
      ]
     },
     "metadata": {},
     "output_type": "display_data"
    },
    {
     "data": {
      "application/vnd.jupyter.widget-view+json": {
       "model_id": "59d8ca5b466e4d6bb799da529b7906ba",
       "version_major": 2,
       "version_minor": 0
      },
      "text/plain": [
       "README.md:   0%|          | 0.00/9.52k [00:00<?, ?B/s]"
      ]
     },
     "metadata": {},
     "output_type": "display_data"
    },
    {
     "data": {
      "application/vnd.jupyter.widget-view+json": {
       "model_id": "a2552c45daf040e1914a6bc6a722ea78",
       "version_major": 2,
       "version_minor": 0
      },
      "text/plain": [
       "sentence_bert_config.json:   0%|          | 0.00/53.0 [00:00<?, ?B/s]"
      ]
     },
     "metadata": {},
     "output_type": "display_data"
    },
    {
     "data": {
      "application/vnd.jupyter.widget-view+json": {
       "model_id": "db82eb3a2c634d3991fabdbeab9c41fb",
       "version_major": 2,
       "version_minor": 0
      },
      "text/plain": [
       "config.json:   0%|          | 0.00/523 [00:00<?, ?B/s]"
      ]
     },
     "metadata": {},
     "output_type": "display_data"
    },
    {
     "data": {
      "application/vnd.jupyter.widget-view+json": {
       "model_id": "a7108cec5ad649c49e7ea9929b921ff8",
       "version_major": 2,
       "version_minor": 0
      },
      "text/plain": [
       "model.safetensors:   0%|          | 0.00/265M [00:00<?, ?B/s]"
      ]
     },
     "metadata": {},
     "output_type": "display_data"
    },
    {
     "data": {
      "application/vnd.jupyter.widget-view+json": {
       "model_id": "2d422b5a0c6843eba33ede4314f03660",
       "version_major": 2,
       "version_minor": 0
      },
      "text/plain": [
       "tokenizer_config.json:   0%|          | 0.00/333 [00:00<?, ?B/s]"
      ]
     },
     "metadata": {},
     "output_type": "display_data"
    },
    {
     "data": {
      "application/vnd.jupyter.widget-view+json": {
       "model_id": "2a967a357383439ab6d45a11fffab893",
       "version_major": 2,
       "version_minor": 0
      },
      "text/plain": [
       "vocab.txt:   0%|          | 0.00/232k [00:00<?, ?B/s]"
      ]
     },
     "metadata": {},
     "output_type": "display_data"
    },
    {
     "data": {
      "application/vnd.jupyter.widget-view+json": {
       "model_id": "5b6b93a6906b45ec849a903af6f48889",
       "version_major": 2,
       "version_minor": 0
      },
      "text/plain": [
       "tokenizer.json:   0%|          | 0.00/466k [00:00<?, ?B/s]"
      ]
     },
     "metadata": {},
     "output_type": "display_data"
    },
    {
     "data": {
      "application/vnd.jupyter.widget-view+json": {
       "model_id": "ada99b2fb77b4c1bb527d32bfa3c0f30",
       "version_major": 2,
       "version_minor": 0
      },
      "text/plain": [
       "special_tokens_map.json:   0%|          | 0.00/112 [00:00<?, ?B/s]"
      ]
     },
     "metadata": {},
     "output_type": "display_data"
    },
    {
     "data": {
      "application/vnd.jupyter.widget-view+json": {
       "model_id": "3a0dbcd0047549e98622cc4a37703bed",
       "version_major": 2,
       "version_minor": 0
      },
      "text/plain": [
       "1_Pooling/config.json:   0%|          | 0.00/190 [00:00<?, ?B/s]"
      ]
     },
     "metadata": {},
     "output_type": "display_data"
    }
   ],
   "source": [
    "# This is a new library compared to the previous modules. \n",
    "# Please perform \"pip install sentence_transformers==2.7.0\"\n",
    "from sentence_transformers import SentenceTransformer\n",
    "\n",
    "# if you get an error do the following:\n",
    "# 1. Uninstall numpy \n",
    "# 2. Uninstall torch\n",
    "# 3. pip install numpy==1.26.4\n",
    "# 4. pip install torch\n",
    "# run the above cell, it should work\n",
    "model = SentenceTransformer(\"multi-qa-distilbert-cos-v1\")"
   ]
  },
  {
   "cell_type": "code",
   "execution_count": 3,
   "metadata": {},
   "outputs": [
    {
     "data": {
      "text/plain": [
       "[0.07822265475988388,\n",
       " -0.04013114050030708,\n",
       " 0.038613591343164444,\n",
       " -0.00017896643839776516,\n",
       " 0.08923470973968506,\n",
       " -0.050459109246730804,\n",
       " -0.010502656921744347,\n",
       " 0.03710556775331497,\n",
       " -0.041871391236782074,\n",
       " 0.034808479249477386,\n",
       " -0.01207018829882145,\n",
       " -0.02369423396885395,\n",
       " 0.0387900173664093,\n",
       " 0.016098860651254654,\n",
       " 0.03507472947239876,\n",
       " 0.003047461621463299,\n",
       " 0.05796723812818527,\n",
       " -0.041062746196985245,\n",
       " -0.03415526822209358,\n",
       " -0.025639638304710388,\n",
       " -0.03552639111876488,\n",
       " 0.014290808700025082,\n",
       " -0.01627999171614647,\n",
       " 0.03214465454220772,\n",
       " -0.04668973758816719,\n",
       " 0.07891860604286194,\n",
       " 0.04901609197258949,\n",
       " 0.015676116570830345,\n",
       " -0.016911007463932037,\n",
       " 0.022648222744464874,\n",
       " 0.05602061003446579,\n",
       " -0.039836108684539795,\n",
       " 0.06774099171161652,\n",
       " -0.012020991183817387,\n",
       " 0.001126218936406076,\n",
       " -0.019439436495304108,\n",
       " -0.026595167815685272,\n",
       " 0.010617736726999283,\n",
       " 0.016968712210655212,\n",
       " 0.01134878396987915,\n",
       " -0.029706308618187904,\n",
       " 0.052525825798511505,\n",
       " -0.014145354740321636,\n",
       " 0.046169985085725784,\n",
       " 0.011706606484949589,\n",
       " -0.023805351927876472,\n",
       " -0.06325582414865494,\n",
       " -0.01920422352850437,\n",
       " -0.007105921860784292,\n",
       " 0.03241678327322006,\n",
       " 0.024961819872260094,\n",
       " -0.00527503015473485,\n",
       " 0.020114902406930923,\n",
       " -0.03723711520433426,\n",
       " 0.034640539437532425,\n",
       " -0.03293102607131004,\n",
       " -0.02014848031103611,\n",
       " 0.005078393034636974,\n",
       " -0.04555067420005798,\n",
       " 0.007891696877777576,\n",
       " -0.04917135834693909,\n",
       " 0.04698972776532173,\n",
       " -3.805059805017663e-06,\n",
       " 0.024883927777409554,\n",
       " -0.02964715100824833,\n",
       " 0.006697601173073053,\n",
       " 0.03580877184867859,\n",
       " -0.007180947810411453,\n",
       " -0.030327726155519485,\n",
       " 0.007957863621413708,\n",
       " 0.03361508250236511,\n",
       " -0.022549115121364594,\n",
       " -0.03620978444814682,\n",
       " -0.020392905920743942,\n",
       " -0.0027067929040640593,\n",
       " -0.0815981850028038,\n",
       " -0.014399322681128979,\n",
       " 0.049056876450777054,\n",
       " -0.02115686424076557,\n",
       " 0.0009316818322986364,\n",
       " 0.06572645902633667,\n",
       " 0.046960990875959396,\n",
       " 0.012365557253360748,\n",
       " -0.02845931425690651,\n",
       " -0.025752874091267586,\n",
       " 0.014692588709294796,\n",
       " -0.05539873614907265,\n",
       " -0.03059704229235649,\n",
       " 0.05755740404129028,\n",
       " 0.028194129467010498,\n",
       " -0.013010701164603233,\n",
       " -0.02086147479712963,\n",
       " -0.024303365498781204,\n",
       " -0.0240275077521801,\n",
       " 0.041157688945531845,\n",
       " -0.059242285788059235,\n",
       " -0.0016900990158319473,\n",
       " 0.040055204182863235,\n",
       " 0.02438526786863804,\n",
       " -0.011090513318777084,\n",
       " -0.029389308765530586,\n",
       " 0.020182648673653603,\n",
       " 0.004228461999446154,\n",
       " 0.02953433059155941,\n",
       " 0.03165234252810478,\n",
       " 0.030092988163232803,\n",
       " 0.008988541550934315,\n",
       " -0.083062082529068,\n",
       " -0.022414429113268852,\n",
       " 0.018218299373984337,\n",
       " -0.05665154755115509,\n",
       " -0.04212719202041626,\n",
       " 0.03272330388426781,\n",
       " -0.021085422486066818,\n",
       " -0.004792236723005772,\n",
       " 0.0190163291990757,\n",
       " 0.04553975909948349,\n",
       " -0.009624815545976162,\n",
       " -0.02303161844611168,\n",
       " -0.035234324634075165,\n",
       " -0.03914190083742142,\n",
       " -0.034654781222343445,\n",
       " 0.02473548986017704,\n",
       " 0.047156672924757004,\n",
       " 0.034627072513103485,\n",
       " 0.05299640819430351,\n",
       " -0.028640542179346085,\n",
       " -0.01717851124703884,\n",
       " -0.013014630414545536,\n",
       " -0.057940464466810226,\n",
       " 0.039925042539834976,\n",
       " -0.058876652270555496,\n",
       " 0.045760154724121094,\n",
       " 0.020962217822670937,\n",
       " -0.015275981277227402,\n",
       " 0.03254149109125137,\n",
       " 0.020825283601880074,\n",
       " -0.02480420283973217,\n",
       " -0.04241471365094185,\n",
       " 0.02959548868238926,\n",
       " -0.046203453093767166,\n",
       " 0.03170286864042282,\n",
       " -0.007649734150618315,\n",
       " 0.005849348846822977,\n",
       " -0.03906738758087158,\n",
       " 0.00811777450144291,\n",
       " -0.03604466840624809,\n",
       " 0.06343259662389755,\n",
       " -0.04231389984488487,\n",
       " -0.0015708527062088251,\n",
       " 0.0091829439625144,\n",
       " -0.029942113906145096,\n",
       " -0.0227955412119627,\n",
       " -0.009867153130471706,\n",
       " 0.02944525144994259,\n",
       " 0.01751529984176159,\n",
       " -0.019344456493854523,\n",
       " 0.024045003578066826,\n",
       " 0.029280303046107292,\n",
       " 0.00047876330791041255,\n",
       " 0.025540295988321304,\n",
       " -0.03349601849913597,\n",
       " 0.03047998435795307,\n",
       " -0.009452776052057743,\n",
       " 0.033525723963975906,\n",
       " 0.05777605623006821,\n",
       " -0.01585513912141323,\n",
       " -0.07151481509208679,\n",
       " 0.0006716418429277837,\n",
       " -0.007776948157697916,\n",
       " -0.053722038865089417,\n",
       " -0.0158578809350729,\n",
       " 0.029334887862205505,\n",
       " -0.053505949676036835,\n",
       " -0.02827848680317402,\n",
       " -0.038172896951436996,\n",
       " 0.0010594199411571026,\n",
       " 0.0033166876528412104,\n",
       " 0.02603251114487648,\n",
       " -0.020570410415530205,\n",
       " -0.02550441212952137,\n",
       " -0.027366556227207184,\n",
       " 0.021215328946709633,\n",
       " -0.0317961685359478,\n",
       " -0.027161914855241776,\n",
       " -0.030025722458958626,\n",
       " -0.05355698615312576,\n",
       " 0.016293911263346672,\n",
       " 0.0025557184126228094,\n",
       " 0.07678277790546417,\n",
       " 0.03242263197898865,\n",
       " 0.03804139047861099,\n",
       " -0.022535551339387894,\n",
       " -0.048164136707782745,\n",
       " 0.02267906442284584,\n",
       " 0.012554853223264217,\n",
       " -0.04781561344861984,\n",
       " 0.041382573544979095,\n",
       " -0.00952939037233591,\n",
       " 0.033711109310388565,\n",
       " 0.032124340534210205,\n",
       " 0.05918247252702713,\n",
       " -0.07252982258796692,\n",
       " -0.007386896759271622,\n",
       " -0.032218459993600845,\n",
       " 0.030930915847420692,\n",
       " 0.052321407943964005,\n",
       " 0.03242436423897743,\n",
       " -0.03954551741480827,\n",
       " -0.02639852464199066,\n",
       " -0.023544304072856903,\n",
       " 0.0023919211234897375,\n",
       " 0.032099734991788864,\n",
       " 0.00844291690737009,\n",
       " 0.009853452444076538,\n",
       " 0.019592763856053352,\n",
       " 0.03993719443678856,\n",
       " 0.0452749989926815,\n",
       " 0.03521839901804924,\n",
       " 0.016736764460802078,\n",
       " 0.026572106406092644,\n",
       " -0.008885934948921204,\n",
       " -0.012736696749925613,\n",
       " -0.05893712490797043,\n",
       " -0.028950929641723633,\n",
       " 0.021816812455654144,\n",
       " -0.04628966003656387,\n",
       " -0.005127421114593744,\n",
       " -0.02738463133573532,\n",
       " -0.04356810450553894,\n",
       " -0.033395979553461075,\n",
       " 0.0026166506577283144,\n",
       " 0.0677051916718483,\n",
       " -0.006686668377369642,\n",
       " 0.04258158430457115,\n",
       " -0.008479981683194637,\n",
       " -0.044596992433071136,\n",
       " -0.04920775443315506,\n",
       " 0.025424128398299217,\n",
       " 0.034130923449993134,\n",
       " 0.046617623418569565,\n",
       " 0.034122250974178314,\n",
       " -0.038992032408714294,\n",
       " 0.06684505939483643,\n",
       " 0.06326375901699066,\n",
       " -0.01535608246922493,\n",
       " -0.0006435263203456998,\n",
       " 0.018804505467414856,\n",
       " 0.011045754887163639,\n",
       " -0.02761615812778473,\n",
       " 0.04894718527793884,\n",
       " -0.06656192988157272,\n",
       " 0.0044155786745250225,\n",
       " -0.008064049296081066,\n",
       " -0.07565829157829285,\n",
       " 0.05205817148089409,\n",
       " -0.01686745695769787,\n",
       " -0.015184103511273861,\n",
       " 0.02595563791692257,\n",
       " 0.00438798638060689,\n",
       " 0.012993969023227692,\n",
       " 0.023795833811163902,\n",
       " -0.03926055505871773,\n",
       " 0.003408036194741726,\n",
       " -0.04652553051710129,\n",
       " -0.05806692689657211,\n",
       " -0.048632435500621796,\n",
       " 0.038559261709451675,\n",
       " 0.01581636071205139,\n",
       " -0.03559178113937378,\n",
       " -0.06133490428328514,\n",
       " -0.04665593430399895,\n",
       " 0.03482886403799057,\n",
       " -0.030083535239100456,\n",
       " -0.03805219382047653,\n",
       " 0.05355707183480263,\n",
       " -0.044222306460142136,\n",
       " -0.04114767163991928,\n",
       " 0.02346901223063469,\n",
       " 4.050105417263694e-05,\n",
       " -0.002188036683946848,\n",
       " -0.0020634159445762634,\n",
       " -0.04337824136018753,\n",
       " -0.000621988030616194,\n",
       " -0.046433962881565094,\n",
       " 0.08278629183769226,\n",
       " -0.014907272532582283,\n",
       " 0.03242708370089531,\n",
       " 0.013579254038631916,\n",
       " -0.001491642789915204,\n",
       " 0.08626024425029755,\n",
       " 0.06921826303005219,\n",
       " 0.004574039485305548,\n",
       " 0.0035552021581679583,\n",
       " 0.06911571323871613,\n",
       " -0.0968690887093544,\n",
       " 0.03210011124610901,\n",
       " -0.01901424676179886,\n",
       " 0.07196400314569473,\n",
       " 0.071885846555233,\n",
       " 0.02109391801059246,\n",
       " -0.0008372279116883874,\n",
       " -0.022793717682361603,\n",
       " 0.012785760685801506,\n",
       " 0.09233944118022919,\n",
       " -0.054178386926651,\n",
       " 0.04614938423037529,\n",
       " -0.007089429069310427,\n",
       " -0.03209871053695679,\n",
       " -0.03816996142268181,\n",
       " -0.04224056378006935,\n",
       " 0.05163561552762985,\n",
       " 0.010712499730288982,\n",
       " -0.05598686262965202,\n",
       " -0.022902844473719597,\n",
       " 0.031591661274433136,\n",
       " -0.05601353198289871,\n",
       " 0.012219917960464954,\n",
       " -0.018576551228761673,\n",
       " -0.0038615053053945303,\n",
       " 0.056624554097652435,\n",
       " 0.03099600411951542,\n",
       " 0.03281629830598831,\n",
       " 0.05950712040066719,\n",
       " -0.011526551097631454,\n",
       " 0.02459908276796341,\n",
       " 0.001986893592402339,\n",
       " 0.03613504394888878,\n",
       " 0.07190223038196564,\n",
       " 0.006746750790625811,\n",
       " -0.022280866280198097,\n",
       " 0.03808025270700455,\n",
       " -0.03199787810444832,\n",
       " 0.04778996855020523,\n",
       " -0.048846203833818436,\n",
       " -0.026296649128198624,\n",
       " -0.009147992357611656,\n",
       " -0.03702252358198166,\n",
       " -0.021067310124635696,\n",
       " 0.03662525489926338,\n",
       " -0.002935672178864479,\n",
       " 0.019001560285687447,\n",
       " -0.04067385569214821,\n",
       " -0.009888498112559319,\n",
       " -0.013206995092332363,\n",
       " -0.01842058077454567,\n",
       " -0.030445707961916924,\n",
       " -0.011764812283217907,\n",
       " -0.02162206918001175,\n",
       " -0.01329079456627369,\n",
       " -0.049081042408943176,\n",
       " 0.03754951432347298,\n",
       " 0.023679913952946663,\n",
       " 0.006209881976246834,\n",
       " 0.019451886415481567,\n",
       " 0.011117142625153065,\n",
       " -0.01272710133343935,\n",
       " -0.011694107204675674,\n",
       " -0.041557904332876205,\n",
       " 0.0030373064801096916,\n",
       " 0.033578548580408096,\n",
       " 0.020215095952153206,\n",
       " -0.05235336720943451,\n",
       " -0.010341783054172993,\n",
       " -0.0344100221991539,\n",
       " -0.018359515815973282,\n",
       " 0.0019308769842609763,\n",
       " 0.034444842487573624,\n",
       " -0.028304798528552055,\n",
       " 0.0072574070654809475,\n",
       " 0.054000891745090485,\n",
       " -0.02321205474436283,\n",
       " -0.023784909397363663,\n",
       " 0.0051484862342476845,\n",
       " -0.010472668334841728,\n",
       " -0.030451113358139992,\n",
       " -0.014522823505103588,\n",
       " 0.05837719887495041,\n",
       " 0.006249298341572285,\n",
       " 0.017653342336416245,\n",
       " 0.027137769386172295,\n",
       " -0.020760266110301018,\n",
       " -0.004829537123441696,\n",
       " 0.043860748410224915,\n",
       " 0.04897907003760338,\n",
       " -0.018472619354724884,\n",
       " 0.02239854261279106,\n",
       " 0.024878690019249916,\n",
       " -0.00783604383468628,\n",
       " 0.027083849534392357,\n",
       " 0.08699122071266174,\n",
       " 0.05146079137921333,\n",
       " 0.026881666854023933,\n",
       " -0.0245199017226696,\n",
       " 0.019857078790664673,\n",
       " 0.025542305782437325,\n",
       " -0.04497096687555313,\n",
       " 0.011826003901660442,\n",
       " -0.05712404474616051,\n",
       " 0.0686878189444542,\n",
       " 0.023273861035704613,\n",
       " 0.04342873767018318,\n",
       " 0.016018439084291458,\n",
       " 0.03365512192249298,\n",
       " 0.01187449973076582,\n",
       " 0.018478719517588615,\n",
       " 0.021871743723750114,\n",
       " 0.00806097686290741,\n",
       " 0.026518678292632103,\n",
       " -0.016791099682450294,\n",
       " -0.011425767093896866,\n",
       " 0.0579695999622345,\n",
       " 0.021995563060045242,\n",
       " -0.07885918021202087,\n",
       " 0.04262716323137283,\n",
       " -0.07005633413791656,\n",
       " 0.051213234663009644,\n",
       " 0.029615769162774086,\n",
       " 0.049960847944021225,\n",
       " 0.009405133314430714,\n",
       " -0.04734983295202255,\n",
       " 0.04212169721722603,\n",
       " -0.018192745745182037,\n",
       " -0.07692109793424606,\n",
       " 0.009728636592626572,\n",
       " -0.06790672987699509,\n",
       " 0.015599170699715614,\n",
       " 0.027287302538752556,\n",
       " 0.004544399678707123,\n",
       " -0.0021001873537898064,\n",
       " 0.07533969730138779,\n",
       " 0.0013348167994990945,\n",
       " -0.019939472898840904,\n",
       " -0.05244845896959305,\n",
       " 0.0030567205976694822,\n",
       " 0.019829196855425835,\n",
       " 0.023994080722332,\n",
       " 0.012423587962985039,\n",
       " 0.014705026522278786,\n",
       " 0.010352958925068378,\n",
       " -0.043881528079509735,\n",
       " 0.04752257093787193,\n",
       " 0.03215488791465759,\n",
       " 0.0006521141622215509,\n",
       " -0.02025296352803707,\n",
       " 0.043225888162851334,\n",
       " -0.027159666642546654,\n",
       " 0.013809168711304665,\n",
       " -0.03863914683461189,\n",
       " 0.02849932760000229,\n",
       " -0.0022744848392903805,\n",
       " 0.03996718302369118,\n",
       " 0.015347709879279137,\n",
       " 0.013241609558463097,\n",
       " -0.07112766057252884,\n",
       " 0.03936483711004257,\n",
       " 0.025113170966506004,\n",
       " -0.02363884449005127,\n",
       " 0.0180941354483366,\n",
       " -0.024395452812314034,\n",
       " 0.0021931841038167477,\n",
       " 0.037505198270082474,\n",
       " 0.015609205700457096,\n",
       " 0.007140642032027245,\n",
       " -0.03413597121834755,\n",
       " 0.007576203905045986,\n",
       " 0.02622743882238865,\n",
       " 0.011428928934037685,\n",
       " 0.035265568643808365,\n",
       " 0.0021369021851569414,\n",
       " -0.004562837071716785,\n",
       " -0.02638823352754116,\n",
       " 0.06555885076522827,\n",
       " 0.060026366263628006,\n",
       " -0.035471461713314056,\n",
       " -0.010135076008737087,\n",
       " 0.025626888498663902,\n",
       " -0.10269717127084732,\n",
       " 0.03547853231430054,\n",
       " -0.06223193556070328,\n",
       " -0.011473397724330425,\n",
       " -0.00344267999753356,\n",
       " 0.0010550516890361905,\n",
       " -0.0028198277577757835,\n",
       " 0.06267230957746506,\n",
       " -0.04572656750679016,\n",
       " 0.017046287655830383,\n",
       " -0.08054831624031067,\n",
       " 0.015510780736804008,\n",
       " -0.0002587116614449769,\n",
       " 0.02015472762286663,\n",
       " 0.00879565067589283,\n",
       " 0.026255784556269646,\n",
       " 0.0008315623854286969,\n",
       " -0.03237200155854225,\n",
       " -0.05279256030917168,\n",
       " 0.01556386798620224,\n",
       " 0.011573908850550652,\n",
       " -0.0029957504011690617,\n",
       " -0.008246637880802155,\n",
       " -0.03261891379952431,\n",
       " -0.0773414596915245,\n",
       " -0.04129669442772865,\n",
       " -0.022101256996393204,\n",
       " 0.004754028283059597,\n",
       " -0.012599104084074497,\n",
       " 0.010752353817224503,\n",
       " 0.04995816573500633,\n",
       " 0.021521881222724915,\n",
       " 0.026931794360280037,\n",
       " 0.032803889364004135,\n",
       " 0.007463451474905014,\n",
       " 0.01838769018650055,\n",
       " -0.02749577723443508,\n",
       " -0.009133191779255867,\n",
       " -0.012279044836759567,\n",
       " 0.02075761929154396,\n",
       " 0.014068185351788998,\n",
       " 0.010991382412612438,\n",
       " -0.02264522947371006,\n",
       " 0.06413659453392029,\n",
       " -0.01796082966029644,\n",
       " -0.042323049157857895,\n",
       " -0.0018853044603019953,\n",
       " -0.03592998906970024,\n",
       " 0.012029431760311127,\n",
       " 0.010036136023700237,\n",
       " 0.06561005115509033,\n",
       " 0.028716599568724632,\n",
       " 0.027846522629261017,\n",
       " -0.052384987473487854,\n",
       " 0.031816303730010986,\n",
       " -0.04656759649515152,\n",
       " 0.01383170671761036,\n",
       " 0.028322456404566765,\n",
       " 0.007783820386976004,\n",
       " -0.009744225069880486,\n",
       " -0.0397435761988163,\n",
       " -0.024980396032333374,\n",
       " -0.023291127756237984,\n",
       " -0.02115890383720398,\n",
       " -0.006846029311418533,\n",
       " -0.019543468952178955,\n",
       " -0.02292720414698124,\n",
       " -0.014651021920144558,\n",
       " -0.022244879975914955,\n",
       " -0.010953652672469616,\n",
       " -0.03671343997120857,\n",
       " -0.018432466313242912,\n",
       " -0.01041030790656805,\n",
       " -0.008881011046469212,\n",
       " -0.014762052334845066,\n",
       " -0.029252389445900917,\n",
       " 0.010056965053081512,\n",
       " 0.022820137441158295,\n",
       " 0.0014232718385756016,\n",
       " -0.023547474294900894,\n",
       " -0.023960528895258904,\n",
       " 0.054014112800359726,\n",
       " -0.021681329235434532,\n",
       " 0.019490472972393036,\n",
       " -0.031147906556725502,\n",
       " -0.015408988110721111,\n",
       " -0.014563593082129955,\n",
       " 0.05816098302602768,\n",
       " 0.030550340190529823,\n",
       " -0.00509663624688983,\n",
       " -0.01680995710194111,\n",
       " -0.034665536135435104,\n",
       " -0.020724140107631683,\n",
       " -0.046008750796318054,\n",
       " 0.0022217414807528257,\n",
       " -0.04448526352643967,\n",
       " 0.011398657225072384,\n",
       " 0.032543450593948364,\n",
       " -0.07113413512706757,\n",
       " -0.025261273607611656,\n",
       " -0.01939290016889572,\n",
       " 0.01291236188262701,\n",
       " -0.038237858563661575,\n",
       " -0.01618211157619953,\n",
       " 0.035850685089826584,\n",
       " 0.05043172836303711,\n",
       " -0.004061106592416763,\n",
       " 0.016250446438789368,\n",
       " -0.07246625423431396,\n",
       " 0.0272172000259161,\n",
       " 0.017822349444031715,\n",
       " 0.013702903874218464,\n",
       " 0.02368197776377201,\n",
       " 0.025989284738898277,\n",
       " 0.04088426008820534,\n",
       " 0.006469821557402611,\n",
       " -0.011518776416778564,\n",
       " -0.02658788114786148,\n",
       " 0.009675509296357632,\n",
       " -0.05312260612845421,\n",
       " 0.0008271508850157261,\n",
       " 0.018726611509919167,\n",
       " -0.0029298861045390368,\n",
       " 0.024940500035881996,\n",
       " -0.01475125178694725,\n",
       " 0.014125923626124859,\n",
       " 0.04050303250551224,\n",
       " -0.012728851288557053,\n",
       " -0.0676722526550293,\n",
       " 0.0483829528093338,\n",
       " 0.0407700389623642,\n",
       " 0.019860530272126198,\n",
       " 0.030329393222928047,\n",
       " 0.026372093707323074,\n",
       " 0.052359435707330704,\n",
       " -0.03346312418580055,\n",
       " -0.009350773878395557,\n",
       " 0.0169177558273077,\n",
       " 0.04346836358308792,\n",
       " 0.03835848346352577,\n",
       " 0.044756244868040085,\n",
       " 0.01908792369067669,\n",
       " -0.014799359254539013,\n",
       " -0.004341371823102236,\n",
       " 0.010840339586138725,\n",
       " 0.004959329031407833,\n",
       " -0.016331229358911514,\n",
       " -0.0019714816007763147,\n",
       " -0.041767511516809464,\n",
       " 0.06567508727312088,\n",
       " -0.06794031709432602,\n",
       " 0.004333962220698595,\n",
       " -0.016946328803896904,\n",
       " 0.025175904855132103,\n",
       " 0.02567637898027897,\n",
       " 0.0011508181924000382,\n",
       " -0.015473541803658009,\n",
       " -0.007345134392380714,\n",
       " -0.05325727537274361,\n",
       " 0.0034877597354352474,\n",
       " -0.013818040490150452,\n",
       " -0.058908212929964066,\n",
       " 0.0029286546632647514,\n",
       " 0.05048190429806709,\n",
       " 0.003358130808919668,\n",
       " -0.08885563164949417,\n",
       " -0.03840010240674019,\n",
       " -0.02221478521823883,\n",
       " -0.02821342647075653,\n",
       " -0.005425650626420975,\n",
       " 0.028560062870383263,\n",
       " -0.04508106783032417,\n",
       " 0.0007932719308882952,\n",
       " 0.08931722491979599,\n",
       " 0.011610506102442741,\n",
       " -0.03180086240172386,\n",
       " 0.02665681391954422,\n",
       " 0.027180271223187447,\n",
       " 0.018926743417978287,\n",
       " -0.020605847239494324,\n",
       " -0.030239664018154144,\n",
       " -0.028500966727733612,\n",
       " -0.03130297735333443,\n",
       " -0.019796308130025864,\n",
       " -0.006647729780524969,\n",
       " -0.016797827556729317,\n",
       " -0.01998077891767025,\n",
       " -0.053457580506801605,\n",
       " -0.0004456910246517509,\n",
       " -0.029682302847504616,\n",
       " 0.04378673806786537,\n",
       " -0.010050400160253048,\n",
       " -0.010999741032719612,\n",
       " 0.022102627903223038,\n",
       " -0.0346548929810524,\n",
       " 0.021183574572205544,\n",
       " 0.01562326867133379,\n",
       " 0.026469536125659943,\n",
       " -0.0234831515699625,\n",
       " 0.024493811652064323,\n",
       " 0.04388884827494621,\n",
       " 0.007061467040330172,\n",
       " -0.012159335426986217,\n",
       " 0.01879023388028145,\n",
       " -0.006919510196894407,\n",
       " 0.013004748150706291,\n",
       " 0.01271610613912344,\n",
       " -0.0022363541647791862,\n",
       " 0.02100306749343872,\n",
       " 0.06996957212686539,\n",
       " 0.03164519742131233,\n",
       " -0.023583317175507545,\n",
       " 0.004635519813746214,\n",
       " -0.0066042132675647736,\n",
       " -0.03261123225092888,\n",
       " 0.07337236404418945,\n",
       " -0.08550909906625748,\n",
       " -0.04057704284787178,\n",
       " 0.025748739019036293,\n",
       " -0.051258865743875504,\n",
       " 0.06703701615333557,\n",
       " -0.012450606562197208,\n",
       " -0.08918384462594986,\n",
       " 0.05485832318663597,\n",
       " -0.04549499228596687,\n",
       " -0.034556515514850616,\n",
       " -0.07730748504400253,\n",
       " 0.04116577282547951,\n",
       " -0.04306395351886749,\n",
       " 0.0270703062415123,\n",
       " 0.03204398602247238,\n",
       " -0.04777020588517189,\n",
       " -0.01565861701965332,\n",
       " 0.017270704731345177,\n",
       " -0.05239672213792801,\n",
       " -0.07179895788431168,\n",
       " 0.0043001058511435986,\n",
       " 7.257526885950938e-05,\n",
       " 0.052934691309928894,\n",
       " -0.03142532706260681,\n",
       " 0.019056100398302078,\n",
       " 0.02562064491212368,\n",
       " 0.07909698784351349,\n",
       " 0.021380947902798653,\n",
       " -0.024431558325886726,\n",
       " -0.01425729040056467,\n",
       " 0.03641669452190399,\n",
       " 0.04898868128657341,\n",
       " 0.020960768684744835,\n",
       " -0.0413178987801075,\n",
       " 0.04093407094478607,\n",
       " -0.12145981192588806,\n",
       " 0.06688746809959412,\n",
       " -0.00031081849010661244,\n",
       " -0.00626350287348032,\n",
       " 0.039860039949417114,\n",
       " 0.054859478026628494,\n",
       " -0.11581797897815704,\n",
       " 0.05319564789533615,\n",
       " -0.04326965659856796,\n",
       " 0.043337631970644,\n",
       " 0.029015254229307175,\n",
       " -0.08897717297077179,\n",
       " -0.021788228303194046,\n",
       " 0.015428125858306885,\n",
       " 0.03621198236942291,\n",
       " -0.09149421751499176,\n",
       " -0.003938409499824047,\n",
       " -0.03608604148030281,\n",
       " -0.00726094888523221,\n",
       " 0.008908381685614586,\n",
       " -0.05329536646604538,\n",
       " 0.03615729510784149,\n",
       " 0.08562063425779343,\n",
       " -0.01420621108263731,\n",
       " 0.024434901773929596,\n",
       " 0.0019447632366791368,\n",
       " 0.0581037811934948,\n",
       " -0.021663084626197815,\n",
       " 0.02432563155889511,\n",
       " -0.00231526349671185,\n",
       " -0.0013754412066191435,\n",
       " 0.058974627405405045,\n",
       " 0.008065173402428627,\n",
       " -0.00571867311373353,\n",
       " 0.021490762010216713,\n",
       " -0.02769271656870842,\n",
       " -0.03972526639699936,\n",
       " 0.03138280287384987,\n",
       " 0.0014022588729858398,\n",
       " 0.05068112164735794]"
      ]
     },
     "execution_count": 3,
     "metadata": {},
     "output_type": "execute_result"
    }
   ],
   "source": [
    "user_question = \"I just discovered the course. Can I still join it?\"\n",
    "text_vector = model.encode(user_question).tolist()\n",
    "text_vector"
   ]
  },
  {
   "cell_type": "code",
   "execution_count": 9,
   "metadata": {},
   "outputs": [
    {
     "data": {
      "text/plain": [
       "{'text': 'GitHub - DataTalksClub data-engineering-zoomcamp#prerequisites',\n",
       " 'section': 'General course-related questions',\n",
       " 'question': 'Course - What are the prerequisites for this course?',\n",
       " 'course': 'data-engineering-zoomcamp'}"
      ]
     },
     "execution_count": 9,
     "metadata": {},
     "output_type": "execute_result"
    }
   ],
   "source": [
    "documents[1]"
   ]
  },
  {
   "cell_type": "code",
   "execution_count": 9,
   "metadata": {},
   "outputs": [
    {
     "data": {
      "text/plain": [
       "(948, 768)"
      ]
     },
     "execution_count": 9,
     "metadata": {},
     "output_type": "execute_result"
    }
   ],
   "source": [
    "import numpy as np\n",
    "#created the dense vector using the pre-trained model\n",
    "embeddings = []\n",
    "for doc in documents:\n",
    "    qa_text = f'{doc[\"question\"]} {doc[\"text\"]}'\n",
    "    # Transforming qa_test into an embedding using the model\n",
    "    embedding = model.encode(qa_text) #.tolist()\n",
    "    embeddings.append(embedding)\n",
    "X = np.array(embeddings)    \n",
    "X.shape\n"
   ]
  },
  {
   "cell_type": "markdown",
   "metadata": {},
   "source": [
    "#### Step 3: Setup ElasticSearch connection "
   ]
  },
  {
   "cell_type": "code",
   "execution_count": 12,
   "metadata": {},
   "outputs": [
    {
     "data": {
      "text/plain": [
       "ObjectApiResponse({'name': 'c89345ae8aca', 'cluster_name': 'docker-cluster', 'cluster_uuid': 'Uj1CMXaIR3-EqjEuEXx5Yw', 'version': {'number': '8.4.3', 'build_flavor': 'default', 'build_type': 'docker', 'build_hash': '42f05b9372a9a4a470db3b52817899b99a76ee73', 'build_date': '2022-10-04T07:17:24.662462378Z', 'build_snapshot': False, 'lucene_version': '9.3.0', 'minimum_wire_compatibility_version': '7.17.0', 'minimum_index_compatibility_version': '7.0.0'}, 'tagline': 'You Know, for Search'})"
      ]
     },
     "execution_count": 12,
     "metadata": {},
     "output_type": "execute_result"
    }
   ],
   "source": [
    "from elasticsearch import Elasticsearch\n",
    "es_client = Elasticsearch('http://localhost:9200') \n",
    "\n",
    "es_client.info()"
   ]
  },
  {
   "cell_type": "markdown",
   "metadata": {},
   "source": [
    "#### Step 4: Create Mappings and Index"
   ]
  },
  {
   "cell_type": "markdown",
   "metadata": {},
   "source": [
    "* Mapping is the process of defining how a document, and the fields it contains, are stored and indexed.\n",
    "\n",
    "* Each document is a collection of fields, which each have their own data type.\n",
    "\n",
    "* We can compare mapping to a database schema in how it describes the fields and properties that documents hold, the datatype of each field (e.g., string, integer, or date), and how those fields should be indexed and stored \n",
    "\n"
   ]
  },
  {
   "cell_type": "code",
   "execution_count": 13,
   "metadata": {},
   "outputs": [],
   "source": [
    "index_settings = {\n",
    "    \"settings\": {\n",
    "        \"number_of_shards\": 1,\n",
    "        \"number_of_replicas\": 0\n",
    "    },\n",
    "    \"mappings\": {\n",
    "        \"properties\": {\n",
    "            \"text\": {\"type\": \"text\"},\n",
    "            \"section\": {\"type\": \"text\"},\n",
    "            \"question\": {\"type\": \"text\"},\n",
    "            \"course\": {\"type\": \"keyword\"} ,\n",
    "            \"text_vector\": {\"type\": \"dense_vector\", \"dims\": 768, \"index\": True, \"similarity\": \"cosine\"},\n",
    "        }\n",
    "    }\n",
    "}"
   ]
  },
  {
   "cell_type": "code",
   "execution_count": 14,
   "metadata": {},
   "outputs": [
    {
     "data": {
      "text/plain": [
       "ObjectApiResponse({'acknowledged': True, 'shards_acknowledged': True, 'index': 'course-questions'})"
      ]
     },
     "execution_count": 14,
     "metadata": {},
     "output_type": "execute_result"
    }
   ],
   "source": [
    "index_name = \"course-questions\"\n",
    "\n",
    "es_client.indices.delete(index=index_name, ignore_unavailable=True)\n",
    "es_client.indices.create(index=index_name, body=index_settings)"
   ]
  },
  {
   "cell_type": "markdown",
   "metadata": {},
   "source": [
    "#### Step 5: Add documents into index"
   ]
  },
  {
   "cell_type": "code",
   "execution_count": 16,
   "metadata": {},
   "outputs": [],
   "source": [
    "for doc in operations:\n",
    "    try:\n",
    "        es_client.index(index=index_name, document=doc)\n",
    "    except Exception as e:\n",
    "        print(e)"
   ]
  },
  {
   "cell_type": "markdown",
   "metadata": {},
   "source": [
    "#### Step 6: Create end user query"
   ]
  },
  {
   "cell_type": "code",
   "execution_count": 17,
   "metadata": {},
   "outputs": [],
   "source": [
    "search_term = \"windows or mac?\"\n",
    "vector_search_term = model.encode(search_term)"
   ]
  },
  {
   "cell_type": "code",
   "execution_count": 18,
   "metadata": {},
   "outputs": [],
   "source": [
    "query = {\n",
    "    \"field\": \"text_vector\",\n",
    "    \"query_vector\": vector_search_term,\n",
    "    \"k\": 5,\n",
    "    \"num_candidates\": 10000, \n",
    "}"
   ]
  },
  {
   "cell_type": "code",
   "execution_count": 19,
   "metadata": {},
   "outputs": [
    {
     "data": {
      "text/plain": [
       "[{'_index': 'course-questions',\n",
       "  '_id': '-BY3YZABY4SUV-QiWtCV',\n",
       "  '_score': 0.7147919,\n",
       "  '_source': {'question': 'Environment - Is the course [Windows/mac/Linux/...] friendly?',\n",
       "   'course': 'data-engineering-zoomcamp',\n",
       "   'section': 'General course-related questions',\n",
       "   'text': 'Yes! Linux is ideal but technically it should not matter. Students last year used all 3 OSes successfully'}},\n",
       " {'_index': 'course-questions',\n",
       "  '_id': 'CxY4YZABY4SUV-QiNdSb',\n",
       "  '_score': 0.6134734,\n",
       "  '_source': {'question': 'WSL instructions',\n",
       "   'course': 'mlops-zoomcamp',\n",
       "   'section': 'Module 1: Introduction',\n",
       "   'text': 'If you wish to use WSL on your windows machine, here are the setup instructions:\\nCommand: Sudo apt install wget\\nGet Anaconda download address here. wget <download address>\\nTurn on Docker Desktop WFree Download | AnacondaSL2\\nCommand: git clone <github repository address>\\nVSCODE on WSL\\nJupyter: pip3 install jupyter\\nAdded by Gregory Morris (gwm1980@gmail.com)\\nAll in all softwares at one shop:\\nYou can use anaconda which has all built in services like pycharm, jupyter\\nAdded by Khaja Zaffer (khajazaffer@aln.iseg.ulisboa.pt)\\nFor windows “wsl --install” in Powershell\\nAdded by Vadim Surin (vdmsurin@gmai.com)'}},\n",
       " {'_index': 'course-questions',\n",
       "  '_id': 'zBY3YZABY4SUV-Qi3dIs',\n",
       "  '_score': 0.60555583,\n",
       "  '_source': {'question': \"The answer I get for one of the homework questions doesn't match any of the options. What should I do?\",\n",
       "   'course': 'machine-learning-zoomcamp',\n",
       "   'section': '2. Machine Learning for Regression',\n",
       "   'text': 'That’s normal. We all have different environments: our computers have different versions of OS and different versions of libraries — even different versions of Python.\\nIf it’s the case, just select the option that’s closest to your answer'}},\n",
       " {'_index': 'course-questions',\n",
       "  '_id': 'JRY3YZABY4SUV-Qi9dPn',\n",
       "  '_score': 0.60289603,\n",
       "  '_source': {'question': 'How to install WSL on Windows 10 and 11 ?',\n",
       "   'course': 'machine-learning-zoomcamp',\n",
       "   'section': '5. Deploying Machine Learning Models',\n",
       "   'text': 'It is quite simple, and you can follow these instructions here:\\nhttps://www.youtube.com/watch?v=qYlgUDKKK5A&ab_channel=NeuralNine\\nMake sure that you have “Virtual Machine Platform” feature activated in your Windows “Features”. To do that, search “features” in the research bar and see if the checkbox is selected. You also need to make sure that your system (in the bios) is able to virtualize. This is usually the case.\\nIn the Microsoft Store: look for ‘Ubuntu’ or ‘Debian’ (or any linux distribution you want) and install it\\nOnce it is downloaded, open the app and choose a username and a password (secured one). When you type your password, nothing will show in the window, which is normal: the writing is invisible.\\nYou are now inside of your linux system. You can test some commands such as “pwd”. You are not in your Windows system.\\nTo go to your windows system: you need to go back two times with cd ../.. And then go to the “mnt” directory with cd mnt. If you list here your files, you will see your disks. You can move to the desired folder, for example here I moved to the ML_Zoomcamp folder:\\nPython should be already installed but you can check it by running sudo apt install python3 command.\\nYou can make your actual folder your default folder when you open your Ubuntu terminal with this command : echo \"cd ../../mnt/your/folder/path\" >> ~/.bashrc\\nYou can disable bell sounds (when you type something that does not exist for example) by modifying the inputrc file with this command: sudo vim /etc/inputrc\\nYou have to uncomment the set bell-style none line -> to do that, press the “i” keyboard letter (for insert) and go with your keyboard to this line. Delete the # and then press the Escape keyboard touch and finally press “:wq” to write (it saves your modifications) then quit.\\nYou can check that your modifications are taken into account by opening a new terminal (you can pin it to your task bar so you do not have to go to the Microsoft app each time).\\nYou will need to install pip by running this command sudo apt install python3-pip\\nNB: I had this error message when trying to install pipenv (https://github.com/microsoft/WSL/issues/5663):\\n/sbin/ldconfig.real: Can\\'t link /usr/lib/wsl/lib/libnvoptix_loader.so.1 to libnvoptix.so.1\\n/sbin/ldconfig.real: /usr/lib/wsl/lib/libcuda.so.1 is not a symbolic link\\nSo I had to create the following symbolic link:\\nsudo ln -s /usr/lib/wsl/lib/libcuda.so.1 /usr/lib64/libcuda.so\\n(Mélanie Fouesnard)'}},\n",
       " {'_index': 'course-questions',\n",
       "  '_id': '6RY3YZABY4SUV-QiVtBc',\n",
       "  '_score': 0.5985867,\n",
       "  '_source': {'question': 'Environment - Should I use my local machine, GCP, or GitHub Codespaces for my environment?',\n",
       "   'course': 'data-engineering-zoomcamp',\n",
       "   'section': 'General course-related questions',\n",
       "   'text': 'You can set it up on your laptop or PC if you prefer to work locally from your laptop or PC.\\nYou might face some challenges, especially for Windows users. If you face cnd2\\nIf you prefer to work on the local machine, you may start with the week 1 Introduction to Docker and follow through.\\nHowever, if you prefer to set up a virtual machine, you may start with these first:\\nUsing GitHub Codespaces\\nSetting up the environment on a cloudV Mcodespace\\nI decided to work on a virtual machine because I have different laptops & PCs for my home & office, so I can work on this boot camp virtually anywhere.'}}]"
      ]
     },
     "execution_count": 19,
     "metadata": {},
     "output_type": "execute_result"
    }
   ],
   "source": [
    "res = es_client.search(index=index_name, knn=query, source=[\"text\", \"section\", \"question\", \"course\"])\n",
    "res[\"hits\"][\"hits\"]"
   ]
  },
  {
   "cell_type": "markdown",
   "metadata": {},
   "source": [
    "#### Step 7: Perform Keyword search with Semantic Search (Hybrid/Advanced Search)"
   ]
  },
  {
   "cell_type": "code",
   "execution_count": null,
   "metadata": {},
   "outputs": [],
   "source": [
    "# Note: I made a minor modification to the query shown in the notebook here\n",
    "# (compare to the one shown in the video)\n",
    "# Included \"knn\" in the search query (to perform a semantic search) along with the filter  \n",
    "knn_query = {\n",
    "    \"field\": \"text_vector\",\n",
    "    \"query_vector\": vector_search_term,\n",
    "    \"k\": 5,\n",
    "    \"num_candidates\": 10000\n",
    "}"
   ]
  },
  {
   "cell_type": "code",
   "execution_count": null,
   "metadata": {},
   "outputs": [],
   "source": [
    "response = es_client.search(\n",
    "    index=index_name,\n",
    "    query={\n",
    "        \"match\": {\"section\": \"General course-related questions\"},\n",
    "    },\n",
    "    knn=knn_query,\n",
    "    size=5\n",
    ")"
   ]
  },
  {
   "cell_type": "code",
   "execution_count": null,
   "metadata": {},
   "outputs": [],
   "source": [
    "response[\"hits\"][\"hits\"]"
   ]
  },
  {
   "cell_type": "markdown",
   "metadata": {},
   "source": [
    "#### References"
   ]
  },
  {
   "cell_type": "markdown",
   "metadata": {},
   "source": [
    "1. https://logz.io/blog/elasticsearch-mapping/#:~:text=Within%20a%20search%20engine%2C%20mapping,indexes%20and%20stores%20its%20fields\n",
    "\n",
    "2. https://www.sbert.net/docs/sentence_transformer/pretrained_models.html\n",
    "\n",
    "3. https://www.elastic.co/search-labs/tutorials\n",
    "\n",
    "4. https://www.elastic.co/search-labs/blog/text-similarity-search-with-vectors-in-elasticsearch"
   ]
  }
 ],
 "metadata": {
  "kernelspec": {
   "display_name": "Python 3 (ipykernel)",
   "language": "python",
   "name": "python3"
  },
  "language_info": {
   "codemirror_mode": {
    "name": "ipython",
    "version": 3
   },
   "file_extension": ".py",
   "mimetype": "text/x-python",
   "name": "python",
   "nbconvert_exporter": "python",
   "pygments_lexer": "ipython3",
   "version": "3.10.13"
  }
 },
 "nbformat": 4,
 "nbformat_minor": 4
}
