{
 "cells": [
  {
   "cell_type": "markdown",
   "id": "82e471cb-7aec-4c00-9eed-36e6f2447eb5",
   "metadata": {},
   "source": [
    "## Homework: Evaluation and Monitoring\n",
    "\n",
    "In this homework, we'll evaluate the quality of our RAG system."
   ]
  },
  {
   "cell_type": "markdown",
   "id": "2dcd8e36-32c1-435a-be50-56618ee7a605",
   "metadata": {},
   "source": [
    "## Data\n",
    "\n",
    "We'll evaluate the quality of our RAG system with [gpt-4o-mini](https://github.com/DataTalksClub/llm-zoomcamp/blob/main/04-monitoring/data/results-gpt4o-mini.csv) - only the first 300 documents"
   ]
  },
  {
   "cell_type": "code",
   "execution_count": 1,
   "id": "79da91e5-bb37-4a7a-860b-0d3909f5de88",
   "metadata": {},
   "outputs": [
    {
     "name": "stdout",
     "output_type": "stream",
     "text": [
      "300\n",
      "                                          answer_llm  \\\n",
      "0  You can sign up for the course by visiting the...   \n",
      "1  You can sign up using the link provided in the...   \n",
      "2  Yes, there is an FAQ for the Machine Learning ...   \n",
      "\n",
      "                                         answer_orig  document  \\\n",
      "0  Machine Learning Zoomcamp FAQ\\nThe purpose of ...  0227b872   \n",
      "1  Machine Learning Zoomcamp FAQ\\nThe purpose of ...  0227b872   \n",
      "2  Machine Learning Zoomcamp FAQ\\nThe purpose of ...  0227b872   \n",
      "\n",
      "                                            question  \\\n",
      "0                Where can I sign up for the course?   \n",
      "1                 Can you provide a link to sign up?   \n",
      "2  Is there an FAQ for this Machine Learning course?   \n",
      "\n",
      "                      course  \n",
      "0  machine-learning-zoomcamp  \n",
      "1  machine-learning-zoomcamp  \n",
      "2  machine-learning-zoomcamp  \n"
     ]
    }
   ],
   "source": [
    "import pandas as pd\n",
    "\n",
    "github_url = 'https://github.com/DataTalksClub/llm-zoomcamp/blob/main/04-monitoring/data/results-gpt4o-mini.csv'\n",
    "url = f'{github_url}?raw=1'\n",
    "df = pd.read_csv(url)\n",
    "df = df.iloc[:300]\n",
    "print(len(df))\n",
    "print(df.head(3))"
   ]
  },
  {
   "cell_type": "code",
   "execution_count": 7,
   "id": "faf3f79e",
   "metadata": {},
   "outputs": [
    {
     "data": {
      "text/plain": [
       "{'answer_llm': 'You can sign up for the course by visiting the course page at [http://mlzoomcamp.com/](http://mlzoomcamp.com/).',\n",
       " 'answer_orig': 'Machine Learning Zoomcamp FAQ\\nThe purpose of this document is to capture frequently asked technical questions.\\nWe did this for our data engineering course and it worked quite well. Check this document for inspiration on how to structure your questions and answers:\\nData Engineering Zoomcamp FAQ\\nIn the course GitHub repository there’s a link. Here it is: https://airtable.com/shryxwLd0COOEaqXo\\nwork',\n",
       " 'document': '0227b872',\n",
       " 'question': 'Where can I sign up for the course?',\n",
       " 'course': 'machine-learning-zoomcamp'}"
      ]
     },
     "execution_count": 7,
     "metadata": {},
     "output_type": "execute_result"
    }
   ],
   "source": [
    "documents = df.to_dict(orient='records')\n",
    "documents[0]"
   ]
  },
  {
   "cell_type": "markdown",
   "id": "9042aa10-abed-4009-b7af-769d8b477cd0",
   "metadata": {},
   "source": [
    "## Q1. Embeddings model\n",
    "\n",
    "Get the embeddings model `multi-qa-mpnet-base-dot-v1` from\n",
    "[the Sentence Transformer library](https://www.sbert.net/docs/sentence_transformer/pretrained_models.html#model-overview)"
   ]
  },
  {
   "cell_type": "code",
   "execution_count": 3,
   "id": "3f61b1fe-f67a-4217-9fbe-5fd57eefd53d",
   "metadata": {},
   "outputs": [
    {
     "name": "stderr",
     "output_type": "stream",
     "text": [
      "/home/codespace/.python/current/lib/python3.10/site-packages/sentence_transformers/cross_encoder/CrossEncoder.py:11: TqdmExperimentalWarning: Using `tqdm.autonotebook.tqdm` in notebook mode. Use `tqdm.tqdm` instead to force console mode (e.g. in jupyter console)\n",
      "  from tqdm.autonotebook import tqdm, trange\n"
     ]
    },
    {
     "data": {
      "application/vnd.jupyter.widget-view+json": {
       "model_id": "947695f053674ea6b513b4171bf0735b",
       "version_major": 2,
       "version_minor": 0
      },
      "text/plain": [
       "modules.json:   0%|          | 0.00/229 [00:00<?, ?B/s]"
      ]
     },
     "metadata": {},
     "output_type": "display_data"
    },
    {
     "data": {
      "application/vnd.jupyter.widget-view+json": {
       "model_id": "9aeaed32a3444440bf0d2b3f7c5426c8",
       "version_major": 2,
       "version_minor": 0
      },
      "text/plain": [
       "config_sentence_transformers.json:   0%|          | 0.00/212 [00:00<?, ?B/s]"
      ]
     },
     "metadata": {},
     "output_type": "display_data"
    },
    {
     "data": {
      "application/vnd.jupyter.widget-view+json": {
       "model_id": "a8f34c8afd994361971d532c54028c40",
       "version_major": 2,
       "version_minor": 0
      },
      "text/plain": [
       "README.md:   0%|          | 0.00/8.71k [00:00<?, ?B/s]"
      ]
     },
     "metadata": {},
     "output_type": "display_data"
    },
    {
     "data": {
      "application/vnd.jupyter.widget-view+json": {
       "model_id": "31935d51db0d4f8382352ee8e82485b5",
       "version_major": 2,
       "version_minor": 0
      },
      "text/plain": [
       "sentence_bert_config.json:   0%|          | 0.00/53.0 [00:00<?, ?B/s]"
      ]
     },
     "metadata": {},
     "output_type": "display_data"
    },
    {
     "data": {
      "application/vnd.jupyter.widget-view+json": {
       "model_id": "6cfe20f17fe34965b7d923bd8b3d8eea",
       "version_major": 2,
       "version_minor": 0
      },
      "text/plain": [
       "config.json:   0%|          | 0.00/571 [00:00<?, ?B/s]"
      ]
     },
     "metadata": {},
     "output_type": "display_data"
    },
    {
     "data": {
      "application/vnd.jupyter.widget-view+json": {
       "model_id": "be6d8c3356404adfa0157832ef635de2",
       "version_major": 2,
       "version_minor": 0
      },
      "text/plain": [
       "model.safetensors:   0%|          | 0.00/438M [00:00<?, ?B/s]"
      ]
     },
     "metadata": {},
     "output_type": "display_data"
    },
    {
     "data": {
      "application/vnd.jupyter.widget-view+json": {
       "model_id": "54fdd81cb0a54d4ca6220f91e8999f6e",
       "version_major": 2,
       "version_minor": 0
      },
      "text/plain": [
       "tokenizer_config.json:   0%|          | 0.00/363 [00:00<?, ?B/s]"
      ]
     },
     "metadata": {},
     "output_type": "display_data"
    },
    {
     "data": {
      "application/vnd.jupyter.widget-view+json": {
       "model_id": "3d5955d832c04938a70186d561ef93b4",
       "version_major": 2,
       "version_minor": 0
      },
      "text/plain": [
       "vocab.txt:   0%|          | 0.00/232k [00:00<?, ?B/s]"
      ]
     },
     "metadata": {},
     "output_type": "display_data"
    },
    {
     "data": {
      "application/vnd.jupyter.widget-view+json": {
       "model_id": "1d42c419df0d475b838e69fe42d1cd7b",
       "version_major": 2,
       "version_minor": 0
      },
      "text/plain": [
       "tokenizer.json:   0%|          | 0.00/466k [00:00<?, ?B/s]"
      ]
     },
     "metadata": {},
     "output_type": "display_data"
    },
    {
     "data": {
      "application/vnd.jupyter.widget-view+json": {
       "model_id": "f0bcd28425634c6fb656440f1df90041",
       "version_major": 2,
       "version_minor": 0
      },
      "text/plain": [
       "special_tokens_map.json:   0%|          | 0.00/239 [00:00<?, ?B/s]"
      ]
     },
     "metadata": {},
     "output_type": "display_data"
    },
    {
     "data": {
      "application/vnd.jupyter.widget-view+json": {
       "model_id": "92f78abf27884735b45dc060bafd589c",
       "version_major": 2,
       "version_minor": 0
      },
      "text/plain": [
       "1_Pooling/config.json:   0%|          | 0.00/190 [00:00<?, ?B/s]"
      ]
     },
     "metadata": {},
     "output_type": "display_data"
    }
   ],
   "source": [
    "from sentence_transformers import SentenceTransformer\n",
    "\n",
    "model_name = 'multi-qa-mpnet-base-dot-v1'\n",
    "model = SentenceTransformer(model_name)"
   ]
  },
  {
   "cell_type": "markdown",
   "id": "cddc3023-1249-4436-b587-28543eec587e",
   "metadata": {},
   "source": [
    "Create the embeddings for the first LLM answer.\n",
    "\n",
    "What's the first value of the resulting vector?"
   ]
  },
  {
   "cell_type": "code",
   "execution_count": 5,
   "id": "03b36201-7fd6-4b3d-ab90-10d75e53e39a",
   "metadata": {},
   "outputs": [
    {
     "name": "stdout",
     "output_type": "stream",
     "text": [
      "answer_llm: You can sign up for the course by visiting the course page at [http://mlzoomcamp.com/](http://mlzoomcamp.com/).\n",
      "embedding_llm: -0.42244655\n"
     ]
    }
   ],
   "source": [
    "answer_llm = df.iloc[0].answer_llm\n",
    "print(\"answer_llm:\", answer_llm)\n",
    "embedding_llm = model.encode(answer_llm)\n",
    "print(\"embedding_llm:\", embedding_llm[0])"
   ]
  },
  {
   "cell_type": "markdown",
   "id": "0f4d621f-f5e0-4c08-83a9-7468310f4e73",
   "metadata": {},
   "source": [
    "## Q2. Computing the dot product\n",
    "\n",
    "Now for each answer pair, let's create embeddings and compute dot product between them\n",
    "\n",
    "We will put the results (scores) into the `evaluations` list\n",
    "\n",
    "What's the 75% percentile of the score?\n",
    "\n",
    "* 21.67\n",
    "* 31.67 <--\n",
    "* 41.67\n",
    "* 51.67"
   ]
  },
  {
   "cell_type": "code",
   "execution_count": 14,
   "id": "8bd33453-4885-4c59-a566-3f5f405e2622",
   "metadata": {},
   "outputs": [
    {
     "data": {
      "application/vnd.jupyter.widget-view+json": {
       "model_id": "e39b9f11c7b249b393bdd0c152b7158e",
       "version_major": 2,
       "version_minor": 0
      },
      "text/plain": [
       "  0%|          | 0/300 [00:00<?, ?it/s]"
      ]
     },
     "metadata": {},
     "output_type": "display_data"
    },
    {
     "name": "stdout",
     "output_type": "stream",
     "text": [
      "[17.515987, 13.418402, 25.313255, 12.147415, 18.747736, 33.970406, 30.251705, 29.521576, 35.272198, 27.751772, 32.34471, 31.441843, 36.38072, 33.340504, 30.606163, 32.503044, 29.67445, 24.35346, 20.13247, 23.99548, 30.88028, 32.692436, 30.049173, 16.078167, 31.79642, 37.980003, 20.839046, 32.612865, 38.894196, 34.051826, 28.263878, 27.124832, 23.975264, 26.340149, 18.658115, 25.016403, 21.101131, 33.72679, 29.340347, 28.654505, 29.608585, 30.810738, 33.331203, 26.220482, 26.550072, 13.148597, 12.962547, 12.275609, 9.9744425, 10.883928, 29.845068, 32.36178, 22.18718, 30.268936, 25.091877, 32.742783, 28.220984, 27.274975, 24.208645, 22.568907, 19.767456, 18.679333, 20.422321, 22.051325, 18.188013, 28.455883, 25.919708, 23.33234, 22.20594, 28.296299, 39.23055, 36.758507, 31.913895, 31.202858, 36.913048, 30.514185, 36.26145, 27.397552, 37.792786, 23.29768, 34.252586, 34.550625, 30.316462, 35.703526, 31.012535, 35.45961, 35.075775, 35.429832, 29.88118, 30.037102, 31.247982, 29.893936, 28.52552, 31.754606, 32.590054, 39.476013, 34.973713, 28.725079, 30.6841, 37.264107, 35.62684, 33.20293, 25.320389, 32.18891, 22.518667, 30.810648, 37.47419, 27.127544, 27.558437, 33.077446, 25.819035, 35.047577, 34.910126, 35.86292, 35.66461, 23.890953, 26.650803, 19.036322, 23.732624, 36.686493, 23.63226, 26.224371, 28.33199, 28.205893, 29.783947, 27.14346, 14.99993, 18.169998, 18.22865, 20.363134, 5.448559, 5.9324837, 7.8709774, 4.5479236, 5.3850884, 27.713974, 20.700142, 27.32947, 16.532589, 19.901363, 31.073881, 29.637468, 28.450895, 24.889114, 26.597538, 26.66406, 33.77531, 28.765789, 19.707878, 17.306507, 34.357475, 30.77972, 30.170502, 27.354593, 32.209934, 26.88023, 28.167719, 29.97623, 28.072683, 31.957582, 30.330576, 29.305614, 27.504326, 27.409874, 26.012468, 31.341295, 29.248137, 34.054386, 29.529325, 27.144749, 26.034883, 31.496738, 32.259842, 21.932491, 30.880066, 39.092705, 32.142105, 25.345892, 23.97759, 27.314085, 30.877428, 28.470518, 28.86775, 28.173199, 27.834404, 33.211494, 27.782207, 28.150196, 27.548817, 29.624222, 28.466618, 27.704882, 27.517042, 26.017357, 16.815935, 29.181885, 30.130192, 27.39175, 28.571144, 21.44202, 29.071888, 27.17482, 26.663845, 26.1534, 29.61127, 27.712765, 17.301193, 25.073748, 26.105179, 15.056329, 32.22444, 26.998756, 24.001854, 30.299423, 31.251945, 24.931465, 27.136263, 20.048164, 22.204573, 18.398666, 23.471607, 23.656586, 20.096876, 27.785181, 23.721886, 29.476564, 31.923637, 27.786558, 25.282497, 21.090363, 34.241966, 34.566086, 35.93257, 22.799612, 33.241444, 19.981956, 22.636581, 24.13118, 23.120184, 11.905029, 32.21834, 29.581188, 22.277004, 26.25491, 18.278994, 33.623146, 29.776497, 30.866934, 26.53907, 26.438847, 23.820007, 27.36067, 29.63708, 31.316284, 20.207516, 34.52057, 33.354908, 28.47409, 27.694311, 21.486217, 29.003836, 26.534304, 28.948309, 27.005241, 24.34091, 21.60849, 33.209816, 31.647543, 30.631369, 25.525118, 31.80574, 34.976173, 29.75033, 28.02201, 24.982292, 34.441284, 33.40549, 30.952467, 25.195036, 29.613964, 31.487982, 29.713963, 28.341751, 28.797338, 28.471727, 38.855072, 35.33558, 13.904609, 38.24656, 30.029465, 33.363068, 25.712193, 32.535797, 31.41125, 30.524261, 34.001778, 33.69086, 34.491524, 27.538357, 18.414108]\n"
     ]
    }
   ],
   "source": [
    "from tqdm.auto import tqdm\n",
    "\n",
    "evaluations = []\n",
    "for doc in tqdm(documents):\n",
    "    answer_llm_embed = model.encode(doc['answer_llm'])\n",
    "    answer_orig_embed = model.encode(doc['answer_orig'])\n",
    "    dot_product = answer_llm_embed.dot(answer_orig_embed)\n",
    "    evaluations.append(dot_product)\n",
    "\n",
    "print(evaluations)"
   ]
  },
  {
   "cell_type": "code",
   "execution_count": 9,
   "id": "1aa4418c-2034-4d87-a59d-7051518cdebd",
   "metadata": {},
   "outputs": [
    {
     "name": "stdout",
     "output_type": "stream",
     "text": [
      "31.67430877685547\n"
     ]
    }
   ],
   "source": [
    "import numpy as np\n",
    "print(np.percentile(evaluations, 75))"
   ]
  },
  {
   "cell_type": "markdown",
   "id": "b583dc56-81ee-44c4-8125-2522c6818198",
   "metadata": {},
   "source": [
    "## Q3. Computing the cosine\n",
    "\n",
    "From Q2, we can see that the results are not within the [0, 1] range. It's because the vectors coming from this model are not normalized.\n",
    "\n",
    "So we need to normalize them.\n",
    "\n",
    "To do it, we \n",
    "\n",
    "* Compute the norm of a vector\n",
    "* Divide each element by this norm\n",
    "\n",
    "So, for vector `v`, it'll be `v / ||v||`\n"
   ]
  },
  {
   "cell_type": "code",
   "execution_count": 11,
   "id": "604ec74b-2b50-4ef7-8b3a-4d6b2d92658f",
   "metadata": {},
   "outputs": [],
   "source": [
    "def normalize_vector(v):\n",
    "    norm = np.sqrt((v * v).sum())\n",
    "    return 0 if norm==0 else (v / norm)"
   ]
  },
  {
   "cell_type": "markdown",
   "id": "1ba4b1bf-b81c-4609-ab3b-57714d5a2cfa",
   "metadata": {},
   "source": [
    "Let's put it into a function and then compute dot product \n",
    "between normalized vectors. This will give us cosine similarity\n",
    "\n",
    "What's the 75% cosine in the scores?\n",
    "* 0.63\n",
    "* 0.73\n",
    "* 0.83 <--\n",
    "* 0.93"
   ]
  },
  {
   "cell_type": "code",
   "execution_count": 15,
   "id": "db8c0a8d-1be8-4959-9157-4ed505add535",
   "metadata": {},
   "outputs": [
    {
     "data": {
      "application/vnd.jupyter.widget-view+json": {
       "model_id": "d1b80ae1d5a74ded9feb6b4f671d0a37",
       "version_major": 2,
       "version_minor": 0
      },
      "text/plain": [
       "  0%|          | 0/300 [00:00<?, ?it/s]"
      ]
     },
     "metadata": {},
     "output_type": "display_data"
    },
    {
     "name": "stdout",
     "output_type": "stream",
     "text": [
      "[0.5067539, 0.38854873, 0.7185989, 0.33726627, 0.5217923, 0.83053213, 0.7462835, 0.6944061, 0.84688616, 0.65590763, 0.7779559, 0.78356636, 0.90468806, 0.80630296, 0.72759616, 0.7751896, 0.71516633, 0.5890557, 0.53322953, 0.5857593, 0.81232715, 0.83714426, 0.76611555, 0.43333992, 0.81558585, 0.92667866, 0.552616, 0.7622108, 0.9452982, 0.8478371, 0.7192839, 0.6864791, 0.6100939, 0.64910805, 0.48555, 0.6549567, 0.52971876, 0.84890294, 0.73956215, 0.76096815, 0.70153177, 0.7140965, 0.77817, 0.6202106, 0.62210196, 0.33472955, 0.3324926, 0.31343076, 0.25845352, 0.27644622, 0.77109647, 0.89201, 0.5712719, 0.7779895, 0.7033882, 0.8988763, 0.7822658, 0.69761264, 0.6318737, 0.5829771, 0.59635806, 0.5221753, 0.5993201, 0.65132016, 0.53131604, 0.761606, 0.6682948, 0.6511333, 0.66239053, 0.75467545, 0.89955723, 0.87245953, 0.75394404, 0.7211681, 0.8531313, 0.74570763, 0.85769904, 0.6625385, 0.91524327, 0.55959284, 0.8276353, 0.8465157, 0.74230355, 0.8715825, 0.7529516, 0.8018651, 0.8231076, 0.8007548, 0.68041277, 0.6951716, 0.8961544, 0.83714855, 0.8057662, 0.9236039, 0.9143867, 0.9000191, 0.81219006, 0.67952967, 0.6867199, 0.8579356, 0.87433946, 0.7897507, 0.6058619, 0.7653111, 0.6195592, 0.737174, 0.8384352, 0.61083513, 0.6532676, 0.7258446, 0.6543803, 0.92430544, 0.9337149, 0.9587959, 0.9345276, 0.6309589, 0.72350216, 0.48164386, 0.62675816, 0.918337, 0.6905621, 0.7319256, 0.7669854, 0.775046, 0.8219246, 0.73368186, 0.36580613, 0.4729826, 0.5297904, 0.5278301, 0.15033378, 0.16259554, 0.22896065, 0.12535672, 0.14907657, 0.8608228, 0.6495168, 0.8210608, 0.49092087, 0.53667176, 0.8139329, 0.83326244, 0.75782573, 0.6944205, 0.75459105, 0.686602, 0.7933617, 0.682746, 0.48471823, 0.4068992, 0.9168881, 0.8109052, 0.7576652, 0.6902132, 0.8495096, 0.78858113, 0.8231363, 0.8638776, 0.80344486, 0.9195234, 0.91087186, 0.87111634, 0.7844466, 0.8046905, 0.7555795, 0.8136051, 0.73089814, 0.84138554, 0.7769921, 0.6778061, 0.76621705, 0.79355013, 0.84841573, 0.6082472, 0.82088995, 0.906824, 0.8077607, 0.65071183, 0.6042328, 0.70193446, 0.80505127, 0.737492, 0.75319993, 0.72830737, 0.6678438, 0.8697071, 0.7675075, 0.7556013, 0.7391145, 0.82990426, 0.9263626, 0.8851108, 0.8814405, 0.8279311, 0.54172164, 0.7976832, 0.82603365, 0.7654161, 0.76598245, 0.5675457, 0.7969284, 0.7953675, 0.80033827, 0.72718334, 0.8399166, 0.8905327, 0.5133375, 0.80328774, 0.8810312, 0.4662354, 0.9119289, 0.7465079, 0.6021073, 0.8736125, 0.8359318, 0.72718275, 0.8083547, 0.54849803, 0.63815355, 0.5346819, 0.7306878, 0.7561727, 0.5733434, 0.8801695, 0.7715907, 0.86457, 0.9356905, 0.8134221, 0.8004232, 0.6286988, 0.878125, 0.8817501, 0.91531885, 0.6066896, 0.85126615, 0.6370443, 0.77223945, 0.78330004, 0.7464661, 0.36829734, 0.90070516, 0.8165291, 0.5891101, 0.71645844, 0.5433668, 0.9083933, 0.7886219, 0.8092998, 0.72053677, 0.76923025, 0.64836967, 0.68449163, 0.8168502, 0.8166458, 0.55176526, 0.8816926, 0.86099637, 0.723094, 0.64812124, 0.50445664, 0.82624143, 0.7752443, 0.81286955, 0.74823487, 0.74998397, 0.58051455, 0.846388, 0.7909031, 0.75424886, 0.6786619, 0.8744372, 0.90543103, 0.8081237, 0.77691114, 0.639755, 0.868979, 0.8800772, 0.82116234, 0.67354435, 0.72401196, 0.9038982, 0.86243504, 0.8033401, 0.8227595, 0.8054043, 0.95774, 0.8829242, 0.3415635, 0.9483267, 0.754716, 0.92996335, 0.69955224, 0.86588347, 0.891375, 0.80319023, 0.91417503, 0.90218973, 0.9047338, 0.7267817, 0.49389875]\n"
     ]
    }
   ],
   "source": [
    "evaluations_norm = []\n",
    "for doc in tqdm(documents):\n",
    "    answer_llm_embed_norm = normalize_vector(model.encode(doc['answer_llm']))\n",
    "    answer_orig_embed_norm = normalize_vector(model.encode(doc['answer_orig']))\n",
    "    dot_product = answer_llm_embed_norm.dot(answer_orig_embed_norm)\n",
    "    evaluations_norm.append(dot_product)\n",
    "\n",
    "print(evaluations_norm)"
   ]
  },
  {
   "cell_type": "code",
   "execution_count": 13,
   "id": "9e183950-ad63-4d05-aa54-6ce39c7cc202",
   "metadata": {},
   "outputs": [
    {
     "name": "stdout",
     "output_type": "stream",
     "text": [
      "0.8362348973751068\n"
     ]
    }
   ],
   "source": [
    "print(np.percentile(evaluations_norm, 75))"
   ]
  },
  {
   "cell_type": "markdown",
   "id": "0a3b59fb-9f48-4213-a45d-38a8d68ddda7",
   "metadata": {},
   "source": [
    "## Q4. Rouge\n",
    "\n",
    "Now we will explore an alternative metric - the ROUGE score.  \n",
    "\n",
    "This is a set of metrics that compares two answers based on the overlap of n-grams, word sequences, and word pairs.\n",
    "\n",
    "It can give a more nuanced view of text similarity than just cosine similarity alone.\n",
    "\n",
    "We don't need to implement it ourselves, there's a python package for it:\n",
    "\n",
    "```bash\n",
    "pip install rouge\n",
    "```\n"
   ]
  },
  {
   "cell_type": "code",
   "execution_count": 16,
   "id": "4bb8ff8e-d0ea-40a6-b65a-2168fab5fa54",
   "metadata": {},
   "outputs": [
    {
     "name": "stderr",
     "output_type": "stream",
     "text": [
      "huggingface/tokenizers: The current process just got forked, after parallelism has already been used. Disabling parallelism to avoid deadlocks...\n",
      "To disable this warning, you can either:\n",
      "\t- Avoid using `tokenizers` before the fork if possible\n",
      "\t- Explicitly set the environment variable TOKENIZERS_PARALLELISM=(true | false)\n"
     ]
    },
    {
     "name": "stdout",
     "output_type": "stream",
     "text": [
      "Collecting rouge==1.0.1\n",
      "  Downloading rouge-1.0.1-py3-none-any.whl.metadata (4.1 kB)\n",
      "Requirement already satisfied: six in /home/codespace/.local/lib/python3.10/site-packages (from rouge==1.0.1) (1.16.0)\n",
      "Downloading rouge-1.0.1-py3-none-any.whl (13 kB)\n",
      "Installing collected packages: rouge\n",
      "Successfully installed rouge-1.0.1\n",
      "\n",
      "\u001b[1m[\u001b[0m\u001b[34;49mnotice\u001b[0m\u001b[1;39;49m]\u001b[0m\u001b[39;49m A new release of pip is available: \u001b[0m\u001b[31;49m24.1.1\u001b[0m\u001b[39;49m -> \u001b[0m\u001b[32;49m24.2\u001b[0m\n",
      "\u001b[1m[\u001b[0m\u001b[34;49mnotice\u001b[0m\u001b[1;39;49m]\u001b[0m\u001b[39;49m To update, run: \u001b[0m\u001b[32;49mpip install --upgrade pip\u001b[0m\n"
     ]
    }
   ],
   "source": [
    "!pip install rouge==1.0.1"
   ]
  },
  {
   "cell_type": "markdown",
   "id": "62cd7713-b0e7-48f5-aaaa-4767979cbbb2",
   "metadata": {},
   "source": [
    "Let's compute the ROUGE score between the answers at the index 10 of our dataframe (`doc_id=5170565b`)\n",
    "\n",
    "```\n",
    "from rouge import Rouge\n",
    "rouge_scorer = Rouge()\n",
    "\n",
    "scores = rouge_scorer.get_scores(r['answer_llm'], r['answer_orig'])[0]\n",
    "```\n",
    "\n",
    "There are three scores: `rouge-1`, `rouge-2` and `rouge-l`, and precision, recall and F1 score for each.\n",
    "\n",
    "* `rouge-1` - the overlap of unigrams,\n",
    "* `rouge-2` - bigrams,\n",
    "* `rouge-l` - the longest common subsequence\n",
    "\n",
    "What's the F score for `rouge-1`?\n",
    "- 0.35\n",
    "- 0.45 <--\n",
    "- 0.55\n",
    "- 0.65"
   ]
  },
  {
   "cell_type": "code",
   "execution_count": 17,
   "id": "a8c38295",
   "metadata": {},
   "outputs": [
    {
     "data": {
      "text/plain": [
       "{'answer_llm': \"Yes, all sessions are recorded, so if you miss one, you won't miss anything. You can catch up on the content later. Additionally, you can submit your questions in advance for office hours, and those sessions are also recorded.\",\n",
       " 'answer_orig': 'Everything is recorded, so you won’t miss anything. You will be able to ask your questions for office hours in advance and we will cover them during the live stream. Also, you can always ask questions in Slack.',\n",
       " 'document': '5170565b',\n",
       " 'question': 'Are sessions recorded if I miss one?',\n",
       " 'course': 'machine-learning-zoomcamp'}"
      ]
     },
     "execution_count": 17,
     "metadata": {},
     "output_type": "execute_result"
    }
   ],
   "source": [
    "documents[10]"
   ]
  },
  {
   "cell_type": "code",
   "execution_count": 18,
   "id": "4d6e5260-491b-4c0b-9ca1-917f6bfa1014",
   "metadata": {},
   "outputs": [
    {
     "name": "stdout",
     "output_type": "stream",
     "text": [
      "{'rouge-1': {'r': 0.45454545454545453, 'p': 0.45454545454545453, 'f': 0.45454544954545456}, 'rouge-2': {'r': 0.21621621621621623, 'p': 0.21621621621621623, 'f': 0.21621621121621637}, 'rouge-l': {'r': 0.3939393939393939, 'p': 0.3939393939393939, 'f': 0.393939388939394}}\n"
     ]
    }
   ],
   "source": [
    "from rouge import Rouge\n",
    "rouge_scorer = Rouge()\n",
    "\n",
    "scores = rouge_scorer.get_scores(documents[10]['answer_llm'], documents[10]['answer_orig'])[0]\n",
    "print(scores)\n"
   ]
  },
  {
   "cell_type": "markdown",
   "id": "508a82e0-64a1-4332-be29-dc21faabb760",
   "metadata": {},
   "source": [
    "## Q5. Average rouge score\n",
    "\n",
    "Let's compute the average between `rouge-1`, `rouge-2` and `rouge-l` for the same record from Q4\n",
    "\n",
    "- 0.35 <--\n",
    "- 0.45\n",
    "- 0.55\n",
    "- 0.65"
   ]
  },
  {
   "cell_type": "code",
   "execution_count": 20,
   "id": "e23e2f21-0b4b-45e9-9a5f-b7dd5a0e6230",
   "metadata": {},
   "outputs": [
    {
     "name": "stdout",
     "output_type": "stream",
     "text": [
      "0.35490034990035496\n"
     ]
    }
   ],
   "source": [
    "avg = np.mean([scores['rouge-1']['f'], scores['rouge-2']['f'], scores['rouge-l']['f']])\n",
    "print(avg)"
   ]
  },
  {
   "cell_type": "markdown",
   "id": "2936b97a-e412-4dee-b915-a36e8683745b",
   "metadata": {},
   "source": [
    "## Q6. Average rouge score for all the data points\n",
    "\n",
    "Now let's compute the score for all the records\n",
    "\n",
    "\n",
    "rouge_1 = scores['rouge-1']['f']\n",
    "rouge_2 = scores['rouge-2']['f']\n",
    "rouge_l = scores['rouge-l']['f']"
   ]
  },
  {
   "cell_type": "markdown",
   "id": "770eae84-eda4-4f2b-a244-35e68a14749f",
   "metadata": {},
   "source": [
    "Create a dataframe from them\n",
    "\n",
    "What's the agerage `rouge_2` across all the records?\n",
    "- 0.10\n",
    "- 0.20 <--\n",
    "- 0.30\n",
    "- 0.40"
   ]
  },
  {
   "cell_type": "code",
   "execution_count": 36,
   "id": "256607f3",
   "metadata": {},
   "outputs": [],
   "source": [
    "def rouge_avg_score(scores):\n",
    "    rouge_1 = scores['rouge-1']['f']\n",
    "    rouge_2 = scores['rouge-2']['f']\n",
    "    rouge_l = scores['rouge-l']['f']   \n",
    "\n",
    "    return {'rouge_1': rouge_1, 'rouge_2': rouge_2, 'rouge_l': rouge_l} "
   ]
  },
  {
   "cell_type": "code",
   "execution_count": 37,
   "id": "10c067a3",
   "metadata": {},
   "outputs": [
    {
     "data": {
      "application/vnd.jupyter.widget-view+json": {
       "model_id": "e4cc0aaf37e140e2874f4ab4052fbda2",
       "version_major": 2,
       "version_minor": 0
      },
      "text/plain": [
       "  0%|          | 0/300 [00:00<?, ?it/s]"
      ]
     },
     "metadata": {},
     "output_type": "display_data"
    },
    {
     "name": "stdout",
     "output_type": "stream",
     "text": [
      "[{'rouge_1': 0.09523809178130524, 'rouge_2': 0.028169010918468917, 'rouge_l': 0.09523809178130524}, {'rouge_1': 0.12499999641113292, 'rouge_2': 0.05555555225694465, 'rouge_l': 0.09374999641113295}, {'rouge_1': 0.41558441095631643, 'rouge_2': 0.17777777313333343, 'rouge_l': 0.3896103849822905}, {'rouge_1': 0.2162162117421476, 'rouge_2': 0.047058819111419105, 'rouge_l': 0.18918918471512064}, {'rouge_1': 0.14207649881095297, 'rouge_2': 0.03389830142092829, 'rouge_l': 0.12021857531368524}, {'rouge_1': 0.43137254522106894, 'rouge_2': 0.2580645130072841, 'rouge_l': 0.43137254522106894}, {'rouge_1': 0.41269840791131274, 'rouge_2': 0.17948717488494426, 'rouge_l': 0.34920634441924925}, {'rouge_1': 0.30434782321361065, 'rouge_2': 0.1403508750384734, 'rouge_l': 0.26086956234404535}, {'rouge_1': 0.5172413747919143, 'rouge_2': 0.3243243199415632, 'rouge_l': 0.4137930989298454}, {'rouge_1': 0.34374999517578125, 'rouge_2': 0.21428570946712028, 'rouge_l': 0.34374999517578125}, {'rouge_1': 0.45454544954545456, 'rouge_2': 0.21621621121621637, 'rouge_l': 0.393939388939394}, {'rouge_1': 0.6060606010606061, 'rouge_2': 0.42105262658241, 'rouge_l': 0.5757575707575758}, {'rouge_1': 0.753623183415249, 'rouge_2': 0.6075949317288897, 'rouge_l': 0.7246376761688721}, {'rouge_1': 0.7297297247881666, 'rouge_2': 0.5714285664994332, 'rouge_l': 0.7027026977611397}, {'rouge_1': 0.6849315018952901, 'rouge_2': 0.4878048730963712, 'rouge_l': 0.6027397210733721}, {'rouge_1': 0.4772727222727273, 'rouge_2': 0.2666666616671202, 'rouge_l': 0.43181817681818185}, {'rouge_1': 0.47999999515022235, 'rouge_2': 0.28235293642629766, 'rouge_l': 0.45333332848355556}, {'rouge_1': 0.3888888841358025, 'rouge_2': 0.11904761433106596, 'rouge_l': 0.36111110635802474}, {'rouge_1': 0.2857142807256236, 'rouge_2': 0.06521738638941436, 'rouge_l': 0.2857142807256236}, {'rouge_1': 0.37499999505, 'rouge_2': 0.22222221734320996, 'rouge_l': 0.37499999505}, {'rouge_1': 0.24719100710011369, 'rouge_2': 0.08247422278669378, 'rouge_l': 0.22471909698775408}, {'rouge_1': 0.2682926793664485, 'rouge_2': 0.13483145731599552, 'rouge_l': 0.2682926793664485}, {'rouge_1': 0.5242718399095109, 'rouge_2': 0.3275862021105827, 'rouge_l': 0.4854368884532002}, {'rouge_1': 0.18918918665814466, 'rouge_2': 0.07499999781250007, 'rouge_l': 0.16216215963111763}, {'rouge_1': 0.5048543641813555, 'rouge_2': 0.27027026561155754, 'rouge_l': 0.4854368884532002}, {'rouge_1': 0.6206896501724138, 'rouge_2': 0.3749999950086806, 'rouge_l': 0.603448270862069}, {'rouge_1': 0.3333333290589569, 'rouge_2': 0.18181817759412314, 'rouge_l': 0.3333333290589569}, {'rouge_1': 0.4130434736011342, 'rouge_2': 0.22018348159245865, 'rouge_l': 0.4130434736011342}, {'rouge_1': 0.633663361446917, 'rouge_2': 0.43548386603147765, 'rouge_l': 0.633663361446917}, {'rouge_1': 0.359550557257922, 'rouge_2': 0.21153845707285512, 'rouge_l': 0.3370786471455625}, {'rouge_1': 0.4489795870054144, 'rouge_2': 0.20833332847222233, 'rouge_l': 0.4489795870054144}, {'rouge_1': 0.5217391255198489, 'rouge_2': 0.2553191440470802, 'rouge_l': 0.5217391255198489}, {'rouge_1': 0.4090909041322315, 'rouge_2': 0.13953487874526788, 'rouge_l': 0.36363635867768596}, {'rouge_1': 0.25714285306122453, 'rouge_2': 0.10389610005059889, 'rouge_l': 0.25714285306122453}, {'rouge_1': 0.16666666172839517, 'rouge_2': 0.0, 'rouge_l': 0.16666666172839517}, {'rouge_1': 0.19999999601250007, 'rouge_2': 0.15384615003287322, 'rouge_l': 0.19999999601250007}, {'rouge_1': 0.29999999601250005, 'rouge_2': 0.10256409875082198, 'rouge_l': 0.19999999601250007}, {'rouge_1': 0.42857142429705225, 'rouge_2': 0.28571428143990935, 'rouge_l': 0.42857142429705225}, {'rouge_1': 0.23255813514332083, 'rouge_2': 0.09523809096371902, 'rouge_l': 0.23255813514332083}, {'rouge_1': 0.7096774143756504, 'rouge_2': 0.5624999950439454, 'rouge_l': 0.6129032208272632}, {'rouge_1': 0.4848484798530762, 'rouge_2': 0.3243243193279767, 'rouge_l': 0.4848484798530762}, {'rouge_1': 0.3934426180166622, 'rouge_2': 0.20588234801038074, 'rouge_l': 0.3934426180166622}, {'rouge_1': 0.5245901590002687, 'rouge_2': 0.3768115892543584, 'rouge_l': 0.5245901590002687}, {'rouge_1': 0.3692307642414202, 'rouge_2': 0.18918918419284161, 'rouge_l': 0.3384615334721894}, {'rouge_1': 0.22222221852839513, 'rouge_2': 0.08163264957934209, 'rouge_l': 0.22222221852839513}, {'rouge_1': 0.11111110797839514, 'rouge_2': 0.0, 'rouge_l': 0.11111110797839514}, {'rouge_1': 0.15789473383656513, 'rouge_2': 0.0, 'rouge_l': 0.15789473383656513}, {'rouge_1': 0.09999999711250009, 'rouge_2': 0.0, 'rouge_l': 0.09999999711250009}, {'rouge_1': 0.054054050986121434, 'rouge_2': 0.0, 'rouge_l': 0.054054050986121434}, {'rouge_1': 0.09302325308815583, 'rouge_2': 0.0, 'rouge_l': 0.09302325308815583}, {'rouge_1': 0.44897958683696615, 'rouge_2': 0.214285709286235, 'rouge_l': 0.4217687024832246}, {'rouge_1': 0.48951048451269014, 'rouge_2': 0.2164948403629505, 'rouge_l': 0.4335664285686342}, {'rouge_1': 0.23943661472227742, 'rouge_2': 0.08648648151117633, 'rouge_l': 0.2253521076800239}, {'rouge_1': 0.4339622598629406, 'rouge_2': 0.2553191447532821, 'rouge_l': 0.3962264108063368}, {'rouge_1': 0.41269840782438905, 'rouge_2': 0.14201182946675553, 'rouge_l': 0.3492063443323256}, {'rouge_1': 0.6578947318732687, 'rouge_2': 0.5054945005240913, 'rouge_l': 0.6052631529259005}, {'rouge_1': 0.45614034683902743, 'rouge_2': 0.24999999641113285, 'rouge_l': 0.45614034683902743}, {'rouge_1': 0.5499999950031251, 'rouge_2': 0.3298969022170263, 'rouge_l': 0.4999999950031251}, {'rouge_1': 0.3529411716825259, 'rouge_2': 0.1249999952531252, 'rouge_l': 0.29411764227076126}, {'rouge_1': 0.31884057488762874, 'rouge_2': 0.09876542731900649, 'rouge_l': 0.2028985459021215}, {'rouge_1': 0.04878048411659754, 'rouge_2': 0.0, 'rouge_l': 0.04878048411659754}, {'rouge_1': 0.2033898276931916, 'rouge_2': 0.11764705652681663, 'rouge_l': 0.2033898276931916}, {'rouge_1': 0.19999999722222223, 'rouge_2': 0.08823529182093431, 'rouge_l': 0.19999999722222223}, {'rouge_1': 0.10526315401662063, 'rouge_2': 0.0, 'rouge_l': 0.10526315401662063}, {'rouge_1': 0.017094015530718237, 'rouge_2': 0.0, 'rouge_l': 0.017094015530718237}, {'rouge_1': 0.6307692257798817, 'rouge_2': 0.5614035038104033, 'rouge_l': 0.6307692257798817}, {'rouge_1': 0.5671641741055915, 'rouge_2': 0.4494381972572908, 'rouge_l': 0.5671641741055915}, {'rouge_1': 0.24444444075061733, 'rouge_2': 0.11965811639710727, 'rouge_l': 0.22222221852839513}, {'rouge_1': 0.35955055819214743, 'rouge_2': 0.19999999651250003, 'rouge_l': 0.31460673796742833}, {'rouge_1': 0.6307692257798817, 'rouge_2': 0.5443786932754456, 'rouge_l': 0.6307692257798817}, {'rouge_1': 0.6279069719632235, 'rouge_2': 0.5132743315686429, 'rouge_l': 0.5813953440562467}, {'rouge_1': 0.5647058776027682, 'rouge_2': 0.4181818135537191, 'rouge_l': 0.5647058776027682}, {'rouge_1': 0.5205479411071496, 'rouge_2': 0.369565213752363, 'rouge_l': 0.5205479411071496}, {'rouge_1': 0.4054054012271731, 'rouge_2': 0.21505375971788648, 'rouge_l': 0.4054054012271731}, {'rouge_1': 0.6236559090484449, 'rouge_2': 0.5166666618055558, 'rouge_l': 0.6021505327043589}, {'rouge_1': 0.5084745720310256, 'rouge_2': 0.2769230729183432, 'rouge_l': 0.47457626694627986}, {'rouge_1': 0.6923076873208417, 'rouge_2': 0.4395604345658737, 'rouge_l': 0.666666661679816}, {'rouge_1': 0.41269840815318726, 'rouge_2': 0.14492753188825888, 'rouge_l': 0.34920634466112377}, {'rouge_1': 0.5783132480127741, 'rouge_2': 0.2947368371058172, 'rouge_l': 0.5542168624706055}, {'rouge_1': 0.3103448234423306, 'rouge_2': 0.12307691907218948, 'rouge_l': 0.27586206482164094}, {'rouge_1': 0.5957446759619739, 'rouge_2': 0.42307691819526627, 'rouge_l': 0.5957446759619739}, {'rouge_1': 0.682926824271267, 'rouge_2': 0.5531914843820736, 'rouge_l': 0.682926824271267}, {'rouge_1': 0.530612240066639, 'rouge_2': 0.4406779614248779, 'rouge_l': 0.530612240066639}, {'rouge_1': 0.849999995, 'rouge_2': 0.7391304297920607, 'rouge_l': 0.849999995}, {'rouge_1': 0.4313725442522107, 'rouge_2': 0.2758620642568371, 'rouge_l': 0.39215685797770095}, {'rouge_1': 0.5454545407244159, 'rouge_2': 0.43103447804994055, 'rouge_l': 0.5454545407244159}, {'rouge_1': 0.5833333283347223, 'rouge_2': 0.4027777727777778, 'rouge_l': 0.5833333283347223}, {'rouge_1': 0.6050420118099005, 'rouge_2': 0.3289473634349031, 'rouge_l': 0.5714285664317493}, {'rouge_1': 0.3373493936942953, 'rouge_2': 0.12631578580387823, 'rouge_l': 0.28915662260995795}, {'rouge_1': 0.2058823510942907, 'rouge_2': 0.15384615242603553, 'rouge_l': 0.2058823510942907}, {'rouge_1': 0.3571428521428572, 'rouge_2': 0.19354838210197725, 'rouge_l': 0.3571428521428572}, {'rouge_1': 0.4516128982726327, 'rouge_2': 0.36363635867768596, 'rouge_l': 0.4516128982726327}, {'rouge_1': 0.4999999950000001, 'rouge_2': 0.3333333283333334, 'rouge_l': 0.4285714235714286}, {'rouge_1': 0.4615384565680473, 'rouge_2': 0.35714285216836733, 'rouge_l': 0.4615384565680473}, {'rouge_1': 0.5624999950781251, 'rouge_2': 0.35294117153979243, 'rouge_l': 0.4999999950781251}, {'rouge_1': 0.5624999950439454, 'rouge_2': 0.3076923028106509, 'rouge_l': 0.5312499950439454}, {'rouge_1': 0.6101694865268602, 'rouge_2': 0.4594594545178963, 'rouge_l': 0.5762711814421144}, {'rouge_1': 0.2926829226888757, 'rouge_2': 0.0869565176843102, 'rouge_l': 0.2926829226888757}, {'rouge_1': 0.45833332855034725, 'rouge_2': 0.11111110635802489, 'rouge_l': 0.2916666618836806}, {'rouge_1': 0.6415094290067641, 'rouge_2': 0.5538461488473373, 'rouge_l': 0.6415094290067641}, {'rouge_1': 0.803921563644752, 'rouge_2': 0.5801526667793252, 'rouge_l': 0.7647058773702423}, {'rouge_1': 0.3529411723183391, 'rouge_2': 0.1428571388803856, 'rouge_l': 0.32352940761245674}, {'rouge_1': 0.3098591505494942, 'rouge_2': 0.20224718669864927, 'rouge_l': 0.28169013646498714}, {'rouge_1': 0.5176470539072665, 'rouge_2': 0.27450979911380247, 'rouge_l': 0.423529406848443}, {'rouge_1': 0.20338982747486356, 'rouge_2': 0.05555555296682112, 'rouge_l': 0.20338982747486356}, {'rouge_1': 0.2857142831393495, 'rouge_2': 0.19047618843074646, 'rouge_l': 0.2857142831393495}, {'rouge_1': 0.47904191126250495, 'rouge_2': 0.1793721924470632, 'rouge_l': 0.38323352802897204}, {'rouge_1': 0.3225806415777836, 'rouge_2': 0.07407407090382578, 'rouge_l': 0.29032257706165454}, {'rouge_1': 0.36065573425826397, 'rouge_2': 0.11976047559252762, 'rouge_l': 0.34426229163531313}, {'rouge_1': 0.33333332962333084, 'rouge_2': 0.058823525813149015, 'rouge_l': 0.2857142820042832}, {'rouge_1': 0.3146067366039642, 'rouge_2': 0.1344537765553282, 'rouge_l': 0.2921348264916046}, {'rouge_1': 0.7088607545008814, 'rouge_2': 0.5137614628903292, 'rouge_l': 0.6582278431084763}, {'rouge_1': 0.749999995003125, 'rouge_2': 0.7037036987037039, 'rouge_l': 0.7249999950031251}, {'rouge_1': 0.7160493777168117, 'rouge_2': 0.4954128390371181, 'rouge_l': 0.6913580196921202}, {'rouge_1': 0.7297297247881666, 'rouge_2': 0.5333333283374151, 'rouge_l': 0.7297297247881666}, {'rouge_1': 0.18947368076675905, 'rouge_2': 0.03738317419512652, 'rouge_l': 0.1684210491878117}, {'rouge_1': 0.46399999516928003, 'rouge_2': 0.28169013601269594, 'rouge_l': 0.41599999516928005}, {'rouge_1': 0.19047618631473934, 'rouge_2': 0.049999995800000356, 'rouge_l': 0.19047618631473934}, {'rouge_1': 0.3364485938649664, 'rouge_2': 0.11475409407148632, 'rouge_l': 0.299065416294873}, {'rouge_1': 0.4171779091527721, 'rouge_2': 0.26130652778465197, 'rouge_l': 0.40490797050246535}, {'rouge_1': 0.3113207509202564, 'rouge_2': 0.13636363310950422, 'rouge_l': 0.2830188641278035}, {'rouge_1': 0.2596153809633876, 'rouge_2': 0.11392404714889454, 'rouge_l': 0.2403846117326184}, {'rouge_1': 0.39823008428851125, 'rouge_2': 0.23699421551922892, 'rouge_l': 0.38938052676638735}, {'rouge_1': 0.3904761867501135, 'rouge_2': 0.19871794534537315, 'rouge_l': 0.3619047581786848}, {'rouge_1': 0.48275861634512496, 'rouge_2': 0.33431084639450986, 'rouge_l': 0.4655172370347801}, {'rouge_1': 0.3111111062320988, 'rouge_2': 0.11428570953404102, 'rouge_l': 0.3111111062320988}, {'rouge_1': 0.2452830138964045, 'rouge_2': 0.07812499501953157, 'rouge_l': 0.22641508936810262}, {'rouge_1': 0.23880596526063722, 'rouge_2': 0.04790418678905711, 'rouge_l': 0.22388059212630887}, {'rouge_1': 0.2285714255469388, 'rouge_2': 0.04938271335467169, 'rouge_l': 0.2285714255469388}, {'rouge_1': 0.4181818131884298, 'rouge_2': 0.1560283638006138, 'rouge_l': 0.4181818131884298}, {'rouge_1': 0.0, 'rouge_2': 0.0, 'rouge_l': 0.0}, {'rouge_1': 0.0, 'rouge_2': 0.0, 'rouge_l': 0.0}, {'rouge_1': 0.0, 'rouge_2': 0.0, 'rouge_l': 0.0}, {'rouge_1': 0.0, 'rouge_2': 0.0, 'rouge_l': 0.0}, {'rouge_1': 0.0, 'rouge_2': 0.0, 'rouge_l': 0.0}, {'rouge_1': 0.4594594546649014, 'rouge_2': 0.2258064468678461, 'rouge_l': 0.4189189141243609}, {'rouge_1': 0.2727272696380165, 'rouge_2': 0.08955223626642911, 'rouge_l': 0.23636363327438017}, {'rouge_1': 0.33333332838210644, 'rouge_2': 0.1477832463073602, 'rouge_l': 0.2962962913450694}, {'rouge_1': 0.21359223066075975, 'rouge_2': 0.1102362186347573, 'rouge_l': 0.21359223066075975}, {'rouge_1': 0.2956521704136106, 'rouge_2': 0.027586203534839884, 'rouge_l': 0.22608695302230625}, {'rouge_1': 0.39215685777585546, 'rouge_2': 0.15037593489739404, 'rouge_l': 0.3529411715013457}, {'rouge_1': 0.46017698615396674, 'rouge_2': 0.2483660080823616, 'rouge_l': 0.44247787110971887}, {'rouge_1': 0.46938775017700957, 'rouge_2': 0.21538461046035515, 'rouge_l': 0.46938775017700957}, {'rouge_1': 0.326923071939719, 'rouge_2': 0.13138685633544694, 'rouge_l': 0.3076923027089497}, {'rouge_1': 0.33823528930038926, 'rouge_2': 0.14893616546231342, 'rouge_l': 0.32352940694744814}, {'rouge_1': 0.47311827461671874, 'rouge_2': 0.2407407357836078, 'rouge_l': 0.4516128982726327}, {'rouge_1': 0.324999995378125, 'rouge_2': 0.13186812730829625, 'rouge_l': 0.324999995378125}, {'rouge_1': 0.2142857095153062, 'rouge_2': 0.0412371086364125, 'rouge_l': 0.16666666189625867}, {'rouge_1': 0.1562499967626954, 'rouge_2': 0.027777774818673155, 'rouge_l': 0.1249999967626954}, {'rouge_1': 0.1176470540235296, 'rouge_2': 0.01960783826028572, 'rouge_l': 0.1176470540235296}, {'rouge_1': 0.4484848435820019, 'rouge_2': 0.2200956888899065, 'rouge_l': 0.42424241933957757}, {'rouge_1': 0.38926174030899513, 'rouge_2': 0.1405405359824691, 'rouge_l': 0.33557046514120986}, {'rouge_1': 0.5157232656065821, 'rouge_2': 0.23414633660916132, 'rouge_l': 0.4528301838455758}, {'rouge_1': 0.3866666619875556, 'rouge_2': 0.14358973885601592, 'rouge_l': 0.2933333286542223}, {'rouge_1': 0.3857142813020409, 'rouge_2': 0.1502890130909821, 'rouge_l': 0.3428571384448979}, {'rouge_1': 0.5238095188095239, 'rouge_2': 0.37623761877462997, 'rouge_l': 0.4761904711904762}, {'rouge_1': 0.44155843659976396, 'rouge_2': 0.2954545404958678, 'rouge_l': 0.44155843659976396}, {'rouge_1': 0.43243242752373995, 'rouge_2': 0.31111110613333337, 'rouge_l': 0.405405400496713}, {'rouge_1': 0.6095238047238095, 'rouge_2': 0.37878787415977966, 'rouge_l': 0.5904761856761905}, {'rouge_1': 0.5617977478247695, 'rouge_2': 0.3539822959981205, 'rouge_l': 0.5168539276000507}, {'rouge_1': 0.5913043428294897, 'rouge_2': 0.4233576592359743, 'rouge_l': 0.5565217341338374}, {'rouge_1': 0.4693877502040817, 'rouge_2': 0.2434782561058602, 'rouge_l': 0.44897958693877554}, {'rouge_1': 0.3132530076585862, 'rouge_2': 0.14583332938368065, 'rouge_l': 0.2891566221164175}, {'rouge_1': 0.3333333283401921, 'rouge_2': 0.09999999500000027, 'rouge_l': 0.3333333283401921}, {'rouge_1': 0.33684210042326873, 'rouge_2': 0.15652173436672984, 'rouge_l': 0.33684210042326873}, {'rouge_1': 0.48387096311784605, 'rouge_2': 0.30967741470468263, 'rouge_l': 0.4354838663436525}, {'rouge_1': 0.45901638887798996, 'rouge_2': 0.3026315743663436, 'rouge_l': 0.42622950363208817}, {'rouge_1': 0.323529406895545, 'rouge_2': 0.16867469395848467, 'rouge_l': 0.30882352454260387}, {'rouge_1': 0.406504060445502, 'rouge_2': 0.2875816947413389, 'rouge_l': 0.406504060445502}, {'rouge_1': 0.330275225368235, 'rouge_2': 0.198473278673737, 'rouge_l': 0.330275225368235}, {'rouge_1': 0.23636363316363643, 'rouge_2': 0.09929077741159908, 'rouge_l': 0.23636363316363643}, {'rouge_1': 0.27586206530321045, 'rouge_2': 0.13245032771018825, 'rouge_l': 0.24137930668252086}, {'rouge_1': 0.5100671092581416, 'rouge_2': 0.29999999516200004, 'rouge_l': 0.4697986528823026}, {'rouge_1': 0.1869158849296882, 'rouge_2': 0.07352940946799315, 'rouge_l': 0.16822429614464152}, {'rouge_1': 0.36942674666558484, 'rouge_2': 0.14925372649488888, 'rouge_l': 0.36942674666558484}, {'rouge_1': 0.45999999545000014, 'rouge_2': 0.3188405751302248, 'rouge_l': 0.43999999545000007}, {'rouge_1': 0.2716049351013565, 'rouge_2': 0.07547169542007842, 'rouge_l': 0.24691357707666517}, {'rouge_1': 0.4190476143310658, 'rouge_2': 0.22695034995422775, 'rouge_l': 0.4190476143310658}, {'rouge_1': 0.30588234934256053, 'rouge_2': 0.11009174012288536, 'rouge_l': 0.2588235258131488}, {'rouge_1': 0.2716049351013565, 'rouge_2': 0.09433961994838029, 'rouge_l': 0.24691357707666517}, {'rouge_1': 0.36496349866268846, 'rouge_2': 0.19161676148875914, 'rouge_l': 0.3357664183707177}, {'rouge_1': 0.3199999950080001, 'rouge_2': 0.11920529301872745, 'rouge_l': 0.2879999950080001}, {'rouge_1': 0.3561643786216927, 'rouge_2': 0.178770944803221, 'rouge_l': 0.34246574848470634}, {'rouge_1': 0.2131147491198604, 'rouge_2': 0.05369127017882125, 'rouge_l': 0.16393442125100796}, {'rouge_1': 0.33846153346153857, 'rouge_2': 0.11320754217159153, 'rouge_l': 0.276923071923077}, {'rouge_1': 0.3636363586363637, 'rouge_2': 0.2105263107929364, 'rouge_l': 0.3636363586363637}, {'rouge_1': 0.4594594545178963, 'rouge_2': 0.22988505258290406, 'rouge_l': 0.43243242749086924}, {'rouge_1': 0.33802816403888125, 'rouge_2': 0.1249999950281252, 'rouge_l': 0.3098591499543742}, {'rouge_1': 0.16666666236979177, 'rouge_2': 0.03921568229142678, 'rouge_l': 0.12499999570312517}, {'rouge_1': 0.379746830578433, 'rouge_2': 0.19565216910444247, 'rouge_l': 0.379746830578433}, {'rouge_1': 0.3495145583561127, 'rouge_2': 0.09230768773491146, 'rouge_l': 0.19417475253087013}, {'rouge_1': 0.42105262670360116, 'rouge_2': 0.1680672221481535, 'rouge_l': 0.35789473196675897}, {'rouge_1': 0.21052631160357038, 'rouge_2': 0.0, 'rouge_l': 0.1403508730070792}, {'rouge_1': 0.2888888839506174, 'rouge_2': 0.07920791583178151, 'rouge_l': 0.24444443950617298}, {'rouge_1': 0.18181817785123974, 'rouge_2': 0.0983606520290246, 'rouge_l': 0.18181817785123974}, {'rouge_1': 0.4848484798484849, 'rouge_2': 0.24324323825785255, 'rouge_l': 0.42424241924242434}, {'rouge_1': 0.40740740265432096, 'rouge_2': 0.17543859175130824, 'rouge_l': 0.3333333285802469}, {'rouge_1': 0.40740740265432096, 'rouge_2': 0.1785714238839287, 'rouge_l': 0.3333333285802469}, {'rouge_1': 0.3076923030547338, 'rouge_2': 0.14035087245306266, 'rouge_l': 0.3076923030547338}, {'rouge_1': 0.1818181780681819, 'rouge_2': 0.08695651810018919, 'rouge_l': 0.1818181780681819}, {'rouge_1': 0.21621621158144638, 'rouge_2': 0.09615384175295877, 'rouge_l': 0.21621621158144638}, {'rouge_1': 0.27999999503200007, 'rouge_2': 0.1333333284222224, 'rouge_l': 0.27999999503200007}, {'rouge_1': 0.2307692257766273, 'rouge_2': 0.16393442129535088, 'rouge_l': 0.2307692257766273}, {'rouge_1': 0.2926829223319453, 'rouge_2': 0.17021276195563612, 'rouge_l': 0.2926829223319453}, {'rouge_1': 0.33333332838333335, 'rouge_2': 0.18421052137119123, 'rouge_l': 0.33333332838333335}, {'rouge_1': 0.42105262659279785, 'rouge_2': 0.19199999502592013, 'rouge_l': 0.33684210027700834}, {'rouge_1': 0.23529411264898129, 'rouge_2': 0.04054053558528184, 'rouge_l': 0.21568626951172637}, {'rouge_1': 0.37209301838831804, 'rouge_2': 0.17543859164512174, 'rouge_l': 0.3488372044348297}, {'rouge_1': 0.3076923041420118, 'rouge_2': 0.25581395004597085, 'rouge_l': 0.3076923041420118}, {'rouge_1': 0.09374999658203137, 'rouge_2': 0.049999997278125145, 'rouge_l': 0.09374999658203137}, {'rouge_1': 0.47191010743592976, 'rouge_2': 0.2982456090489382, 'rouge_l': 0.42696628721121077}, {'rouge_1': 0.2978723354459032, 'rouge_2': 0.15929203041741732, 'rouge_l': 0.27659573970122237}, {'rouge_1': 0.39534883234180646, 'rouge_2': 0.19047618557823143, 'rouge_l': 0.37209301838831804}, {'rouge_1': 0.43373493496879084, 'rouge_2': 0.23762375755318116, 'rouge_l': 0.43373493496879084}, {'rouge_1': 0.43999999500000003, 'rouge_2': 0.18181817681852347, 'rouge_l': 0.359999995}, {'rouge_1': 0.4523809477239229, 'rouge_2': 0.217391299633743, 'rouge_l': 0.4285714239143991}, {'rouge_1': 0.4112149482714648, 'rouge_2': 0.22950819174281117, 'rouge_l': 0.3925233594864181}, {'rouge_1': 0.4999999952091944, 'rouge_2': 0.2978723356518787, 'rouge_l': 0.47727272248192154}, {'rouge_1': 0.39603959897264984, 'rouge_2': 0.21428570928730878, 'rouge_l': 0.39603959897264984}, {'rouge_1': 0.2222222183371914, 'rouge_2': 0.07999999635200017, 'rouge_l': 0.2222222183371914}, {'rouge_1': 0.319999995288, 'rouge_2': 0.22641508964044152, 'rouge_l': 0.319999995288}, {'rouge_1': 0.4444444395654321, 'rouge_2': 0.28571428088296547, 'rouge_l': 0.39999999512098766}, {'rouge_1': 0.24561403064327492, 'rouge_2': 0.09230768804733748, 'rouge_l': 0.21052631134502933}, {'rouge_1': 0.3870967694484912, 'rouge_2': 0.19354838251821027, 'rouge_l': 0.32258064041623313}, {'rouge_1': 0.3030302989302112, 'rouge_2': 0.16091953668912679, 'rouge_l': 0.3030302989302112}, {'rouge_1': 0.16393442269282457, 'rouge_2': 0.025974023167482173, 'rouge_l': 0.16393442269282457}, {'rouge_1': 0.6153846105950033, 'rouge_2': 0.40404039946944187, 'rouge_l': 0.6153846105950033}, {'rouge_1': 0.280701751492767, 'rouge_2': 0.10958903893413402, 'rouge_l': 0.280701751492767}, {'rouge_1': 0.19672130793872616, 'rouge_2': 0.0, 'rouge_l': 0.16393442269282457}, {'rouge_1': 0.1403508742997846, 'rouge_2': 0.054794518386188866, 'rouge_l': 0.1403508742997846}, {'rouge_1': 0.4705882303633218, 'rouge_2': 0.270270265303141, 'rouge_l': 0.4705882303633218}, {'rouge_1': 0.45161289848074926, 'rouge_2': 0.24242423764921955, 'rouge_l': 0.45161289848074926}, {'rouge_1': 0.36666666202222226, 'rouge_2': 0.21874999531250008, 'rouge_l': 0.33333332868888893}, {'rouge_1': 0.23076922683431958, 'rouge_2': 0.11320754346742624, 'rouge_l': 0.19230768837278112}, {'rouge_1': 0.40677965643205977, 'rouge_2': 0.2539682493323256, 'rouge_l': 0.37288135134731404}, {'rouge_1': 0.7878787829522499, 'rouge_2': 0.7160493777777778, 'rouge_l': 0.7878787829522499}, {'rouge_1': 0.6451612853433925, 'rouge_2': 0.4054054004090578, 'rouge_l': 0.5806451563111343}, {'rouge_1': 0.45161289824661816, 'rouge_2': 0.1351351301387876, 'rouge_l': 0.4193548337304891}, {'rouge_1': 0.6249999952170139, 'rouge_2': 0.656249995078125, 'rouge_l': 0.6249999952170139}, {'rouge_1': 0.09302325134396992, 'rouge_2': 0.018181813778513464, 'rouge_l': 0.09302325134396992}, {'rouge_1': 0.4406779612754956, 'rouge_2': 0.25531914409335554, 'rouge_l': 0.4406779612754956}, {'rouge_1': 0.4626865621742036, 'rouge_2': 0.3121387233318855, 'rouge_l': 0.4477611890398752}, {'rouge_1': 0.4814814769204391, 'rouge_2': 0.3100775147911784, 'rouge_l': 0.4259259213648834}, {'rouge_1': 0.36363635875964767, 'rouge_2': 0.19310344338073732, 'rouge_l': 0.3471074331398129}, {'rouge_1': 0.16279069464575452, 'rouge_2': 0.0, 'rouge_l': 0.16279069464575452}, {'rouge_1': 0.5769230719249261, 'rouge_2': 0.32835820400980176, 'rouge_l': 0.5769230719249261}, {'rouge_1': 0.4144144094472852, 'rouge_2': 0.21276595255771855, 'rouge_l': 0.306306301339177}, {'rouge_1': 0.4096385494788794, 'rouge_2': 0.1914893570846538, 'rouge_l': 0.3373493928523734}, {'rouge_1': 0.4819277061053855, 'rouge_2': 0.2941176422145329, 'rouge_l': 0.4819277061053855}, {'rouge_1': 0.4337349350210481, 'rouge_2': 0.25490195594002313, 'rouge_l': 0.4337349350210481}, {'rouge_1': 0.2051282017192637, 'rouge_2': 0.08695651833648407, 'rouge_l': 0.17948717607823805}, {'rouge_1': 0.2077922044999157, 'rouge_2': 0.09090908793388439, 'rouge_l': 0.2077922044999157}, {'rouge_1': 0.1558441525518638, 'rouge_2': 0.044444441244444674, 'rouge_l': 0.12987012657783784}, {'rouge_1': 0.22471909681100874, 'rouge_2': 0.13461538035502973, 'rouge_l': 0.22471909681100874}, {'rouge_1': 0.15789473367382278, 'rouge_2': 0.022471907021841105, 'rouge_l': 0.13157894420013858}, {'rouge_1': 0.683760678866243, 'rouge_2': 0.6335403678114271, 'rouge_l': 0.683760678866243}, {'rouge_1': 0.461538456545858, 'rouge_2': 0.31944443946855716, 'rouge_l': 0.461538456545858}, {'rouge_1': 0.2916666616753473, 'rouge_2': 0.21138210886112777, 'rouge_l': 0.2916666616753473}, {'rouge_1': 0.13186812691703917, 'rouge_2': 0.035398225261180076, 'rouge_l': 0.13186812691703917}, {'rouge_1': 0.13592232510132926, 'rouge_2': 0.04411764205990541, 'rouge_l': 0.13592232510132926}, {'rouge_1': 0.3676470542138841, 'rouge_2': 0.13333332892654337, 'rouge_l': 0.33823528950800175}, {'rouge_1': 0.2622950788067724, 'rouge_2': 0.11267605352906178, 'rouge_l': 0.16393442306906753}, {'rouge_1': 0.3855421638380026, 'rouge_2': 0.12371133544053584, 'rouge_l': 0.3132530072114966}, {'rouge_1': 0.377777772817284, 'rouge_2': 0.16981131581879688, 'rouge_l': 0.3333333283728396}, {'rouge_1': 0.19354838378251824, 'rouge_2': 0.08450703944455476, 'rouge_l': 0.19354838378251824}, {'rouge_1': 0.14285713893494908, 'rouge_2': 0.0, 'rouge_l': 0.1071428532206634}, {'rouge_1': 0.7333333283333333, 'rouge_2': 0.5714285664285715, 'rouge_l': 0.7333333283333333}, {'rouge_1': 0.2631578899584488, 'rouge_2': 0.09999999545000023, 'rouge_l': 0.21052631101108046}, {'rouge_1': 0.2941176421280277, 'rouge_2': 0.05882352456747445, 'rouge_l': 0.2941176421280277}, {'rouge_1': 0.21428571036352043, 'rouge_2': 0.0677966065498422, 'rouge_l': 0.17857142464923478}, {'rouge_1': 0.4511278146305614, 'rouge_2': 0.19672130663800066, 'rouge_l': 0.43609022064559894}, {'rouge_1': 0.5151515102444904, 'rouge_2': 0.3124999950781251, 'rouge_l': 0.49999999509297527}, {'rouge_1': 0.28318583624402854, 'rouge_2': 0.08484848032617104, 'rouge_l': 0.2654867211997808}, {'rouge_1': 0.23999999625000001, 'rouge_2': 0.059259256059259434, 'rouge_l': 0.21999999625000002}, {'rouge_1': 0.23188405300882178, 'rouge_2': 0.05524861397149091, 'rouge_l': 0.1884057921392566}, {'rouge_1': 0.5094339572659311, 'rouge_2': 0.3100775143825492, 'rouge_l': 0.47169810820932717}, {'rouge_1': 0.5794392473403791, 'rouge_2': 0.3255813903515414, 'rouge_l': 0.5420560697702858}, {'rouge_1': 0.37735848556781776, 'rouge_2': 0.15384614885088774, 'rouge_l': 0.3584905610395159}, {'rouge_1': 0.3870967692634986, 'rouge_2': 0.10526315295013873, 'rouge_l': 0.32258064023124067}, {'rouge_1': 0.3333333283352557, 'rouge_2': 0.1406249950012209, 'rouge_l': 0.27450979892349103}, {'rouge_1': 0.5416666616666667, 'rouge_2': 0.20833332833333348, 'rouge_l': 0.45833332833333335}, {'rouge_1': 0.45283018372374517, 'rouge_2': 0.14285713795918387, 'rouge_l': 0.45283018372374517}, {'rouge_1': 0.4827586158382878, 'rouge_2': 0.19354838235171706, 'rouge_l': 0.41379309859690844}, {'rouge_1': 0.408163260308205, 'rouge_2': 0.11999999500800021, 'rouge_l': 0.32653060724698046}, {'rouge_1': 0.26373625985267485, 'rouge_2': 0.0917431158320008, 'rouge_l': 0.17582417194058697}, {'rouge_1': 0.5813953438399135, 'rouge_2': 0.3207547119882521, 'rouge_l': 0.5813953438399135}, {'rouge_1': 0.30769230311952667, 'rouge_2': 0.12820512367850115, 'rouge_l': 0.30769230311952667}, {'rouge_1': 0.24096385042241264, 'rouge_2': 0.0, 'rouge_l': 0.19277107933807533}, {'rouge_1': 0.5111111061333333, 'rouge_2': 0.21621621124908705, 'rouge_l': 0.46666666168888893}, {'rouge_1': 0.14285713910714296, 'rouge_2': 0.062499996762695485, 'rouge_l': 0.14285713910714296}, {'rouge_1': 0.5176470540235294, 'rouge_2': 0.35999999528800003, 'rouge_l': 0.49411764225882365}, {'rouge_1': 0.23529411320261448, 'rouge_2': 0.14035087274853814, 'rouge_l': 0.23529411320261448}, {'rouge_1': 0.4415584366267499, 'rouge_2': 0.22988505255119576, 'rouge_l': 0.41558441065272395}, {'rouge_1': 0.47826086490548214, 'rouge_2': 0.3272727227504133, 'rouge_l': 0.4565217344706995}, {'rouge_1': 0.3023255766143862, 'rouge_2': 0.1386138566924813, 'rouge_l': 0.2790697626608979}, {'rouge_1': 0.6545454495471076, 'rouge_2': 0.540983601562752, 'rouge_l': 0.6181818131834711}, {'rouge_1': 0.5901639294598228, 'rouge_2': 0.4604316497903836, 'rouge_l': 0.557377044213921}, {'rouge_1': 0.6548672516375598, 'rouge_2': 0.5645161240439647, 'rouge_l': 0.637168136593312}, {'rouge_1': 0.304761899784127, 'rouge_2': 0.13223139996175146, 'rouge_l': 0.304761899784127}, {'rouge_1': 0.17948717543721246, 'rouge_2': 0.023529407518339866, 'rouge_l': 0.1538461497961868}]\n"
     ]
    }
   ],
   "source": [
    "evaluations_rouge=[]\n",
    "for doc in tqdm(documents):\n",
    "    scores = rouge_scorer.get_scores(doc['answer_llm'], doc['answer_orig'])[0]\n",
    "    avg_score = rouge_avg_score(scores)\n",
    "    evaluations_rouge.append(avg_score)\n",
    "\n",
    "print(evaluations_rouge)"
   ]
  },
  {
   "cell_type": "code",
   "execution_count": 38,
   "id": "55a03005-df48-463b-9240-68c2e64bbbc2",
   "metadata": {},
   "outputs": [
    {
     "data": {
      "text/html": [
       "<div>\n",
       "<style scoped>\n",
       "    .dataframe tbody tr th:only-of-type {\n",
       "        vertical-align: middle;\n",
       "    }\n",
       "\n",
       "    .dataframe tbody tr th {\n",
       "        vertical-align: top;\n",
       "    }\n",
       "\n",
       "    .dataframe thead th {\n",
       "        text-align: right;\n",
       "    }\n",
       "</style>\n",
       "<table border=\"1\" class=\"dataframe\">\n",
       "  <thead>\n",
       "    <tr style=\"text-align: right;\">\n",
       "      <th></th>\n",
       "      <th>rouge_1</th>\n",
       "      <th>rouge_2</th>\n",
       "      <th>rouge_l</th>\n",
       "    </tr>\n",
       "  </thead>\n",
       "  <tbody>\n",
       "    <tr>\n",
       "      <th>0</th>\n",
       "      <td>0.095238</td>\n",
       "      <td>0.028169</td>\n",
       "      <td>0.095238</td>\n",
       "    </tr>\n",
       "    <tr>\n",
       "      <th>1</th>\n",
       "      <td>0.125000</td>\n",
       "      <td>0.055556</td>\n",
       "      <td>0.093750</td>\n",
       "    </tr>\n",
       "    <tr>\n",
       "      <th>2</th>\n",
       "      <td>0.415584</td>\n",
       "      <td>0.177778</td>\n",
       "      <td>0.389610</td>\n",
       "    </tr>\n",
       "    <tr>\n",
       "      <th>3</th>\n",
       "      <td>0.216216</td>\n",
       "      <td>0.047059</td>\n",
       "      <td>0.189189</td>\n",
       "    </tr>\n",
       "    <tr>\n",
       "      <th>4</th>\n",
       "      <td>0.142076</td>\n",
       "      <td>0.033898</td>\n",
       "      <td>0.120219</td>\n",
       "    </tr>\n",
       "  </tbody>\n",
       "</table>\n",
       "</div>"
      ],
      "text/plain": [
       "    rouge_1   rouge_2   rouge_l\n",
       "0  0.095238  0.028169  0.095238\n",
       "1  0.125000  0.055556  0.093750\n",
       "2  0.415584  0.177778  0.389610\n",
       "3  0.216216  0.047059  0.189189\n",
       "4  0.142076  0.033898  0.120219"
      ]
     },
     "execution_count": 38,
     "metadata": {},
     "output_type": "execute_result"
    }
   ],
   "source": [
    "df_rouge_score= pd.DataFrame(evaluations_rouge)\n",
    "df_rouge_score.head()"
   ]
  },
  {
   "cell_type": "code",
   "execution_count": 39,
   "id": "11d4ef4e-c759-42b5-a4c5-761581beca34",
   "metadata": {},
   "outputs": [
    {
     "data": {
      "text/plain": [
       "0.20696501983423318"
      ]
     },
     "execution_count": 39,
     "metadata": {},
     "output_type": "execute_result"
    }
   ],
   "source": [
    "df_rouge_score['rouge_2'].mean()"
   ]
  },
  {
   "cell_type": "code",
   "execution_count": null,
   "id": "33923082-8634-46ea-bba7-0db99a94d713",
   "metadata": {},
   "outputs": [],
   "source": []
  }
 ],
 "metadata": {
  "kernelspec": {
   "display_name": "Python 3 (ipykernel)",
   "language": "python",
   "name": "python3"
  },
  "language_info": {
   "codemirror_mode": {
    "name": "ipython",
    "version": 3
   },
   "file_extension": ".py",
   "mimetype": "text/x-python",
   "name": "python",
   "nbconvert_exporter": "python",
   "pygments_lexer": "ipython3",
   "version": "3.10.13"
  }
 },
 "nbformat": 4,
 "nbformat_minor": 5
}
